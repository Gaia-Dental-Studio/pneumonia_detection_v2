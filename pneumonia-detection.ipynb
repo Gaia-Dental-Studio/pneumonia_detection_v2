{
 "cells": [
  {
   "cell_type": "markdown",
   "metadata": {
    "id": "ZQLHr0PKLjXS"
   },
   "source": [
    "### Download data from Kaggle"
   ]
  },
  {
   "cell_type": "code",
   "execution_count": null,
   "metadata": {
    "id": "tGujtYfrKENM"
   },
   "outputs": [],
   "source": [
    "!pip install -q kaggle"
   ]
  },
  {
   "cell_type": "code",
   "execution_count": null,
   "metadata": {
    "colab": {
     "base_uri": "https://localhost:8080/",
     "height": 92
    },
    "executionInfo": {
     "elapsed": 25997,
     "status": "ok",
     "timestamp": 1737445417981,
     "user": {
      "displayName": "Mauliana",
      "userId": "04631804011909403256"
     },
     "user_tz": -420
    },
    "id": "5w6_IccPKb9u",
    "outputId": "5a732e9b-3334-4938-ae64-b2068dd7d732"
   },
   "outputs": [],
   "source": [
    "# Upload kaggle.json file for kaggle API key\n",
    "from google.colab import files\n",
    "files.upload()"
   ]
  },
  {
   "cell_type": "code",
   "execution_count": null,
   "metadata": {
    "id": "-qbhRobhKfwx"
   },
   "outputs": [],
   "source": [
    "!mkdir -p ~/.kaggle\n",
    "!cp kaggle.json ~/.kaggle/\n",
    "!chmod 600 ~/.kaggle/kaggle.json"
   ]
  },
  {
   "cell_type": "code",
   "execution_count": null,
   "metadata": {
    "colab": {
     "base_uri": "https://localhost:8080/"
    },
    "executionInfo": {
     "elapsed": 112369,
     "status": "ok",
     "timestamp": 1737445530348,
     "user": {
      "displayName": "Mauliana",
      "userId": "04631804011909403256"
     },
     "user_tz": -420
    },
    "id": "7PZuu-xcKmd4",
    "outputId": "73715eb2-357d-49ae-ade2-97d54617d9c8"
   },
   "outputs": [
    {
     "name": "stdout",
     "output_type": "stream",
     "text": [
      "Dataset URL: https://www.kaggle.com/datasets/paultimothymooney/chest-xray-pneumonia\n",
      "License(s): other\n",
      "Downloading chest-xray-pneumonia.zip to /content\n",
      "100% 2.29G/2.29G [01:49<00:00, 23.7MB/s]\n",
      "100% 2.29G/2.29G [01:49<00:00, 22.4MB/s]\n"
     ]
    }
   ],
   "source": [
    "!kaggle datasets download paultimothymooney/chest-xray-pneumonia"
   ]
  },
  {
   "cell_type": "code",
   "execution_count": null,
   "metadata": {
    "colab": {
     "base_uri": "https://localhost:8080/"
    },
    "executionInfo": {
     "elapsed": 32605,
     "status": "ok",
     "timestamp": 1737445562951,
     "user": {
      "displayName": "Mauliana",
      "userId": "04631804011909403256"
     },
     "user_tz": -420
    },
    "id": "GxYMlzLJKvRP",
    "outputId": "d2e556e9-a018-48e5-f6d6-b0e8143664c9"
   },
   "outputs": [
    {
     "name": "stdout",
     "output_type": "stream",
     "text": [
      "Dataset URL: https://www.kaggle.com/datasets/tawsifurrahman/tuberculosis-tb-chest-xray-dataset\n",
      "License(s): copyright-authors\n",
      "Downloading tuberculosis-tb-chest-xray-dataset.zip to /content\n",
      "100% 663M/663M [00:31<00:00, 24.3MB/s]\n",
      "100% 663M/663M [00:31<00:00, 22.4MB/s]\n"
     ]
    }
   ],
   "source": [
    "!kaggle datasets download tawsifurrahman/tuberculosis-tb-chest-xray-dataset"
   ]
  },
  {
   "cell_type": "code",
   "execution_count": null,
   "metadata": {
    "id": "RZKCjBeCK0II"
   },
   "outputs": [],
   "source": [
    "!unzip chest-xray-pneumonia.zip\n",
    "!unzip tuberculosis-tb-chest-xray-dataset.zip"
   ]
  },
  {
   "cell_type": "markdown",
   "metadata": {
    "id": "dpPXwMeFLpfl"
   },
   "source": [
    "### Data Preparation"
   ]
  },
  {
   "cell_type": "code",
   "execution_count": null,
   "metadata": {
    "id": "sFBqHOT_LCT4"
   },
   "outputs": [],
   "source": [
    "import os\n",
    "\n",
    "# Define the data path\n",
    "pneumonia_data = '/content/chest_xray/train/PNEUMONIA'\n",
    "tbc_data = '/content/TB_Chest_Radiography_Database/Tuberculosis'\n",
    "normal_data = '/content/TB_Chest_Radiography_Database/Normal'\n",
    "\n",
    "# Load the data path and define the label for each\n",
    "def load_data(data_dir, label):\n",
    "  image_paths = []\n",
    "  labels = []\n",
    "\n",
    "  for image in os.listdir(data_dir):\n",
    "    image_paths.append(os.path.join(data_dir, image))\n",
    "    labels.append(label)\n",
    "\n",
    "  return image_paths, labels\n",
    "\n",
    "p_image_path, p_label = load_data(pneumonia_data, \"pneumonia\")\n",
    "t_image_path, t_label = load_data(tbc_data, \"tbc\")\n",
    "n_image_path, n_label = load_data(normal_data, \"normal\")\n",
    "\n",
    "image_paths = p_image_path + t_image_path + n_image_path\n",
    "labels = p_label + t_label + n_label\n"
   ]
  },
  {
   "cell_type": "code",
   "execution_count": null,
   "metadata": {
    "id": "xqWcXyHmL9Cl"
   },
   "outputs": [],
   "source": [
    "import pandas as pd\n",
    "\n",
    "# Create a DataFrame and save the metadata of the image into a dataframe\n",
    "data = pd.DataFrame({\n",
    "    'image_path': image_paths,\n",
    "    'label': labels\n",
    "})"
   ]
  },
  {
   "cell_type": "code",
   "execution_count": null,
   "metadata": {
    "colab": {
     "base_uri": "https://localhost:8080/",
     "height": 210
    },
    "executionInfo": {
     "elapsed": 3,
     "status": "ok",
     "timestamp": 1737445612831,
     "user": {
      "displayName": "Mauliana",
      "userId": "04631804011909403256"
     },
     "user_tz": -420
    },
    "id": "OZYLfcooMYls",
    "outputId": "67bc41b3-5af3-4fdd-e0b5-79c926111f13"
   },
   "outputs": [
    {
     "data": {
      "text/html": [
       "<div>\n",
       "<style scoped>\n",
       "    .dataframe tbody tr th:only-of-type {\n",
       "        vertical-align: middle;\n",
       "    }\n",
       "\n",
       "    .dataframe tbody tr th {\n",
       "        vertical-align: top;\n",
       "    }\n",
       "\n",
       "    .dataframe thead th {\n",
       "        text-align: right;\n",
       "    }\n",
       "</style>\n",
       "<table border=\"1\" class=\"dataframe\">\n",
       "  <thead>\n",
       "    <tr style=\"text-align: right;\">\n",
       "      <th></th>\n",
       "      <th>count</th>\n",
       "    </tr>\n",
       "    <tr>\n",
       "      <th>label</th>\n",
       "      <th></th>\n",
       "    </tr>\n",
       "  </thead>\n",
       "  <tbody>\n",
       "    <tr>\n",
       "      <th>pneumonia</th>\n",
       "      <td>3875</td>\n",
       "    </tr>\n",
       "    <tr>\n",
       "      <th>normal</th>\n",
       "      <td>3500</td>\n",
       "    </tr>\n",
       "    <tr>\n",
       "      <th>tbc</th>\n",
       "      <td>700</td>\n",
       "    </tr>\n",
       "  </tbody>\n",
       "</table>\n",
       "</div><br><label><b>dtype:</b> int64</label>"
      ],
      "text/plain": [
       "label\n",
       "pneumonia    3875\n",
       "normal       3500\n",
       "tbc           700\n",
       "Name: count, dtype: int64"
      ]
     },
     "execution_count": 9,
     "metadata": {},
     "output_type": "execute_result"
    }
   ],
   "source": [
    "data.label.value_counts()"
   ]
  },
  {
   "cell_type": "code",
   "execution_count": null,
   "metadata": {
    "colab": {
     "base_uri": "https://localhost:8080/"
    },
    "executionInfo": {
     "elapsed": 1763,
     "status": "ok",
     "timestamp": 1737445614592,
     "user": {
      "displayName": "Mauliana",
      "userId": "04631804011909403256"
     },
     "user_tz": -420
    },
    "id": "FmVp5MCgMeaL",
    "outputId": "cebce70f-286c-4c7d-c7fe-cdbdc575901b"
   },
   "outputs": [
    {
     "name": "stdout",
     "output_type": "stream",
     "text": [
      "{0: 0.6946236559139785, 1: 3.8452380952380953, 2: 0.7690476190476191}\n"
     ]
    }
   ],
   "source": [
    "from sklearn.utils.class_weight import compute_class_weight\n",
    "\n",
    "# Compute class weights\n",
    "class_weights = compute_class_weight(\n",
    "    'balanced',\n",
    "    classes=data['label'].unique(),\n",
    "    y=data['label']\n",
    ")\n",
    "\n",
    "class_weights_dict = dict(enumerate(class_weights))\n",
    "print(class_weights_dict)"
   ]
  },
  {
   "cell_type": "code",
   "execution_count": null,
   "metadata": {
    "colab": {
     "base_uri": "https://localhost:8080/"
    },
    "executionInfo": {
     "elapsed": 91627,
     "status": "ok",
     "timestamp": 1737445706217,
     "user": {
      "displayName": "Mauliana",
      "userId": "04631804011909403256"
     },
     "user_tz": -420
    },
    "id": "GsiYcTrnL_bl",
    "outputId": "0fa53250-f02d-48fe-a1b9-a5b783e6c6a3"
   },
   "outputs": [
    {
     "name": "stdout",
     "output_type": "stream",
     "text": [
      "Augmentation completed!\n"
     ]
    }
   ],
   "source": [
    "from torchvision import transforms\n",
    "from PIL import Image\n",
    "import os\n",
    "\n",
    "# Define paths\n",
    "tbc_dir = tbc_data\n",
    "save_dir = \"/content/aug_tbc\"\n",
    "os.makedirs(save_dir, exist_ok=True)\n",
    "\n",
    "# Define augmentation transformations\n",
    "augmentations = transforms.Compose([\n",
    "    transforms.RandomRotation(10),\n",
    "    transforms.RandomHorizontalFlip(),\n",
    "    transforms.RandomResizedCrop(size=224, scale=(0.8, 1.0)),\n",
    "    # transforms.ColorJitter(brightness=0.1, contrast=0.1, saturation=0.1, hue=0.1),\n",
    "    transforms.ToTensor()\n",
    "])\n",
    "\n",
    "\n",
    "# Apply augmentations and save new images\n",
    "tbc_images = os.listdir(tbc_dir)\n",
    "for idx, image_file in enumerate(tbc_images):\n",
    "    img_path = os.path.join(tbc_dir, image_file)\n",
    "    img = Image.open(img_path).convert(\"RGB\")\n",
    "\n",
    "    for j in range(4):  # Create 4 augmented images per TBC image\n",
    "        augmented_img = augmentations(img)\n",
    "        augmented_img = transforms.ToPILImage()(augmented_img)\n",
    "        augmented_img.save(os.path.join(save_dir, f\"tbc_aug_{idx}_{j}.png\"))\n",
    "\n",
    "print(\"Augmentation completed!\")\n"
   ]
  },
  {
   "cell_type": "code",
   "execution_count": null,
   "metadata": {
    "colab": {
     "base_uri": "https://localhost:8080/",
     "height": 210
    },
    "executionInfo": {
     "elapsed": 4,
     "status": "ok",
     "timestamp": 1737445706217,
     "user": {
      "displayName": "Mauliana",
      "userId": "04631804011909403256"
     },
     "user_tz": -420
    },
    "id": "UQuXW-N8MlKx",
    "outputId": "48fb8cf2-466c-49aa-e94b-5757bc5a2be5"
   },
   "outputs": [
    {
     "data": {
      "text/html": [
       "<div>\n",
       "<style scoped>\n",
       "    .dataframe tbody tr th:only-of-type {\n",
       "        vertical-align: middle;\n",
       "    }\n",
       "\n",
       "    .dataframe tbody tr th {\n",
       "        vertical-align: top;\n",
       "    }\n",
       "\n",
       "    .dataframe thead th {\n",
       "        text-align: right;\n",
       "    }\n",
       "</style>\n",
       "<table border=\"1\" class=\"dataframe\">\n",
       "  <thead>\n",
       "    <tr style=\"text-align: right;\">\n",
       "      <th></th>\n",
       "      <th>count</th>\n",
       "    </tr>\n",
       "    <tr>\n",
       "      <th>label</th>\n",
       "      <th></th>\n",
       "    </tr>\n",
       "  </thead>\n",
       "  <tbody>\n",
       "    <tr>\n",
       "      <th>pneumonia</th>\n",
       "      <td>3875</td>\n",
       "    </tr>\n",
       "    <tr>\n",
       "      <th>tbc</th>\n",
       "      <td>3500</td>\n",
       "    </tr>\n",
       "    <tr>\n",
       "      <th>normal</th>\n",
       "      <td>3500</td>\n",
       "    </tr>\n",
       "  </tbody>\n",
       "</table>\n",
       "</div><br><label><b>dtype:</b> int64</label>"
      ],
      "text/plain": [
       "label\n",
       "pneumonia    3875\n",
       "tbc          3500\n",
       "normal       3500\n",
       "Name: count, dtype: int64"
      ]
     },
     "execution_count": 12,
     "metadata": {},
     "output_type": "execute_result"
    }
   ],
   "source": [
    "aug_tbc_data, aug_tbc_label = load_data(save_dir, \"tbc\")\n",
    "\n",
    "# add into the dataframe\n",
    "aug_data = pd.DataFrame({\n",
    "    'image_path': aug_tbc_data,\n",
    "    'label': aug_tbc_label\n",
    "})\n",
    "\n",
    "# combine with others\n",
    "data = pd.concat([data, aug_data], ignore_index=True)\n",
    "data.label.value_counts()"
   ]
  },
  {
   "cell_type": "code",
   "execution_count": null,
   "metadata": {
    "id": "j0-1dAMwNAa0"
   },
   "outputs": [],
   "source": [
    "# Split data\n",
    "from sklearn.model_selection import train_test_split\n",
    "\n",
    "# split data\n",
    "train_images, val_set = train_test_split(data, test_size=0.3, random_state=42)\n",
    "train_set, test_set = train_test_split(data, test_size=0.2, random_state=42)"
   ]
  },
  {
   "cell_type": "code",
   "execution_count": null,
   "metadata": {
    "colab": {
     "base_uri": "https://localhost:8080/"
    },
    "executionInfo": {
     "elapsed": 3,
     "status": "ok",
     "timestamp": 1737445706217,
     "user": {
      "displayName": "Mauliana",
      "userId": "04631804011909403256"
     },
     "user_tz": -420
    },
    "id": "MnYk5jM_NE9H",
    "outputId": "82fe8dbf-ba5f-444f-fa1f-06130b498a3f"
   },
   "outputs": [
    {
     "name": "stdout",
     "output_type": "stream",
     "text": [
      "(8700, 2)\n",
      "(3263, 2)\n",
      "(2175, 2)\n"
     ]
    }
   ],
   "source": [
    "print(train_set.shape)\n",
    "print(val_set.shape)\n",
    "print(test_set.shape)"
   ]
  },
  {
   "cell_type": "code",
   "execution_count": null,
   "metadata": {
    "colab": {
     "base_uri": "https://localhost:8080/"
    },
    "executionInfo": {
     "elapsed": 645,
     "status": "ok",
     "timestamp": 1737445816026,
     "user": {
      "displayName": "Mauliana",
      "userId": "04631804011909403256"
     },
     "user_tz": -420
    },
    "id": "OS86yDURNHSc",
    "outputId": "8ad079f3-9bb0-457b-c086-572d15d34ac7"
   },
   "outputs": [
    {
     "name": "stdout",
     "output_type": "stream",
     "text": [
      "Found 8700 validated image filenames belonging to 3 classes.\n",
      "Found 2175 validated image filenames belonging to 3 classes.\n",
      "Found 3263 validated image filenames belonging to 3 classes.\n"
     ]
    }
   ],
   "source": [
    "import tensorflow as tf\n",
    "from tensorflow import keras\n",
    "from tensorflow.keras.preprocessing.image import ImageDataGenerator\n",
    "\n",
    "# IMAGE_SIZE = 244\n",
    "IMAGE_SIZE = 224  # for mobileNetV2\n",
    "BATCH_SIZE = 32\n",
    "\n",
    "image_gen = ImageDataGenerator(preprocessing_function= tf.keras.applications.mobilenet_v2.preprocess_input)\n",
    "train = image_gen.flow_from_dataframe(dataframe= train_set,x_col=\"image_path\",y_col=\"label\",\n",
    "                                      target_size=(IMAGE_SIZE,IMAGE_SIZE),\n",
    "                                      color_mode='rgb',\n",
    "                                      class_mode=\"categorical\", #used for Sequential Model\n",
    "                                      batch_size=BATCH_SIZE,\n",
    "                                      shuffle=False\n",
    "                                     )\n",
    "test = image_gen.flow_from_dataframe(dataframe= test_set,x_col=\"image_path\", y_col=\"label\",\n",
    "                                     target_size=(IMAGE_SIZE,IMAGE_SIZE),\n",
    "                                     color_mode='rgb',\n",
    "                                     class_mode=\"categorical\",\n",
    "                                     batch_size=BATCH_SIZE,\n",
    "                                     shuffle= False\n",
    "                                    )\n",
    "val = image_gen.flow_from_dataframe(dataframe= val_set,x_col=\"image_path\", y_col=\"label\",\n",
    "                                    target_size=(IMAGE_SIZE,IMAGE_SIZE),\n",
    "                                    color_mode= 'rgb',\n",
    "                                    class_mode=\"categorical\",\n",
    "                                    batch_size=BATCH_SIZE,\n",
    "                                    shuffle=False\n",
    "                                   )\n"
   ]
  },
  {
   "cell_type": "markdown",
   "metadata": {
    "id": "EHbVgoKWdu1u"
   },
   "source": [
    "### CNN"
   ]
  },
  {
   "cell_type": "code",
   "execution_count": null,
   "metadata": {
    "colab": {
     "base_uri": "https://localhost:8080/",
     "height": 1000
    },
    "executionInfo": {
     "elapsed": 3256,
     "status": "ok",
     "timestamp": 1737435564437,
     "user": {
      "displayName": "Mauliana",
      "userId": "04631804011909403256"
     },
     "user_tz": -420
    },
    "id": "Hy8LvL3cNZII",
    "outputId": "73110023-db97-420d-a6aa-bf707f4febe4"
   },
   "outputs": [
    {
     "name": "stderr",
     "output_type": "stream",
     "text": [
      "/usr/local/lib/python3.11/dist-packages/keras/src/layers/convolutional/base_conv.py:107: UserWarning: Do not pass an `input_shape`/`input_dim` argument to a layer. When using Sequential models, prefer using an `Input(shape)` object as the first layer in the model instead.\n",
      "  super().__init__(activity_regularizer=activity_regularizer, **kwargs)\n"
     ]
    },
    {
     "data": {
      "text/html": [
       "<pre style=\"white-space:pre;overflow-x:auto;line-height:normal;font-family:Menlo,'DejaVu Sans Mono',consolas,'Courier New',monospace\"><span style=\"font-weight: bold\">Model: \"sequential\"</span>\n",
       "</pre>\n"
      ],
      "text/plain": [
       "\u001b[1mModel: \"sequential\"\u001b[0m\n"
      ]
     },
     "metadata": {},
     "output_type": "display_data"
    },
    {
     "data": {
      "text/html": [
       "<pre style=\"white-space:pre;overflow-x:auto;line-height:normal;font-family:Menlo,'DejaVu Sans Mono',consolas,'Courier New',monospace\">┏━━━━━━━━━━━━━━━━━━━━━━━━━━━━━━━━━━━━━━┳━━━━━━━━━━━━━━━━━━━━━━━━━━━━━┳━━━━━━━━━━━━━━━━━┓\n",
       "┃<span style=\"font-weight: bold\"> Layer (type)                         </span>┃<span style=\"font-weight: bold\"> Output Shape                </span>┃<span style=\"font-weight: bold\">         Param # </span>┃\n",
       "┡━━━━━━━━━━━━━━━━━━━━━━━━━━━━━━━━━━━━━━╇━━━━━━━━━━━━━━━━━━━━━━━━━━━━━╇━━━━━━━━━━━━━━━━━┩\n",
       "│ conv2d (<span style=\"color: #0087ff; text-decoration-color: #0087ff\">Conv2D</span>)                      │ (<span style=\"color: #00d7ff; text-decoration-color: #00d7ff\">None</span>, <span style=\"color: #00af00; text-decoration-color: #00af00\">73</span>, <span style=\"color: #00af00; text-decoration-color: #00af00\">73</span>, <span style=\"color: #00af00; text-decoration-color: #00af00\">128</span>)         │          <span style=\"color: #00af00; text-decoration-color: #00af00\">24,704</span> │\n",
       "├──────────────────────────────────────┼─────────────────────────────┼─────────────────┤\n",
       "│ batch_normalization                  │ (<span style=\"color: #00d7ff; text-decoration-color: #00d7ff\">None</span>, <span style=\"color: #00af00; text-decoration-color: #00af00\">73</span>, <span style=\"color: #00af00; text-decoration-color: #00af00\">73</span>, <span style=\"color: #00af00; text-decoration-color: #00af00\">128</span>)         │             <span style=\"color: #00af00; text-decoration-color: #00af00\">512</span> │\n",
       "│ (<span style=\"color: #0087ff; text-decoration-color: #0087ff\">BatchNormalization</span>)                 │                             │                 │\n",
       "├──────────────────────────────────────┼─────────────────────────────┼─────────────────┤\n",
       "│ conv2d_1 (<span style=\"color: #0087ff; text-decoration-color: #0087ff\">Conv2D</span>)                    │ (<span style=\"color: #00d7ff; text-decoration-color: #00d7ff\">None</span>, <span style=\"color: #00af00; text-decoration-color: #00af00\">73</span>, <span style=\"color: #00af00; text-decoration-color: #00af00\">73</span>, <span style=\"color: #00af00; text-decoration-color: #00af00\">256</span>)         │         <span style=\"color: #00af00; text-decoration-color: #00af00\">819,456</span> │\n",
       "├──────────────────────────────────────┼─────────────────────────────┼─────────────────┤\n",
       "│ batch_normalization_1                │ (<span style=\"color: #00d7ff; text-decoration-color: #00d7ff\">None</span>, <span style=\"color: #00af00; text-decoration-color: #00af00\">73</span>, <span style=\"color: #00af00; text-decoration-color: #00af00\">73</span>, <span style=\"color: #00af00; text-decoration-color: #00af00\">256</span>)         │           <span style=\"color: #00af00; text-decoration-color: #00af00\">1,024</span> │\n",
       "│ (<span style=\"color: #0087ff; text-decoration-color: #0087ff\">BatchNormalization</span>)                 │                             │                 │\n",
       "├──────────────────────────────────────┼─────────────────────────────┼─────────────────┤\n",
       "│ max_pooling2d (<span style=\"color: #0087ff; text-decoration-color: #0087ff\">MaxPooling2D</span>)         │ (<span style=\"color: #00d7ff; text-decoration-color: #00d7ff\">None</span>, <span style=\"color: #00af00; text-decoration-color: #00af00\">24</span>, <span style=\"color: #00af00; text-decoration-color: #00af00\">24</span>, <span style=\"color: #00af00; text-decoration-color: #00af00\">256</span>)         │               <span style=\"color: #00af00; text-decoration-color: #00af00\">0</span> │\n",
       "├──────────────────────────────────────┼─────────────────────────────┼─────────────────┤\n",
       "│ conv2d_2 (<span style=\"color: #0087ff; text-decoration-color: #0087ff\">Conv2D</span>)                    │ (<span style=\"color: #00d7ff; text-decoration-color: #00d7ff\">None</span>, <span style=\"color: #00af00; text-decoration-color: #00af00\">24</span>, <span style=\"color: #00af00; text-decoration-color: #00af00\">24</span>, <span style=\"color: #00af00; text-decoration-color: #00af00\">256</span>)         │         <span style=\"color: #00af00; text-decoration-color: #00af00\">590,080</span> │\n",
       "├──────────────────────────────────────┼─────────────────────────────┼─────────────────┤\n",
       "│ batch_normalization_2                │ (<span style=\"color: #00d7ff; text-decoration-color: #00d7ff\">None</span>, <span style=\"color: #00af00; text-decoration-color: #00af00\">24</span>, <span style=\"color: #00af00; text-decoration-color: #00af00\">24</span>, <span style=\"color: #00af00; text-decoration-color: #00af00\">256</span>)         │           <span style=\"color: #00af00; text-decoration-color: #00af00\">1,024</span> │\n",
       "│ (<span style=\"color: #0087ff; text-decoration-color: #0087ff\">BatchNormalization</span>)                 │                             │                 │\n",
       "├──────────────────────────────────────┼─────────────────────────────┼─────────────────┤\n",
       "│ conv2d_3 (<span style=\"color: #0087ff; text-decoration-color: #0087ff\">Conv2D</span>)                    │ (<span style=\"color: #00d7ff; text-decoration-color: #00d7ff\">None</span>, <span style=\"color: #00af00; text-decoration-color: #00af00\">24</span>, <span style=\"color: #00af00; text-decoration-color: #00af00\">24</span>, <span style=\"color: #00af00; text-decoration-color: #00af00\">256</span>)         │          <span style=\"color: #00af00; text-decoration-color: #00af00\">65,792</span> │\n",
       "├──────────────────────────────────────┼─────────────────────────────┼─────────────────┤\n",
       "│ batch_normalization_3                │ (<span style=\"color: #00d7ff; text-decoration-color: #00d7ff\">None</span>, <span style=\"color: #00af00; text-decoration-color: #00af00\">24</span>, <span style=\"color: #00af00; text-decoration-color: #00af00\">24</span>, <span style=\"color: #00af00; text-decoration-color: #00af00\">256</span>)         │           <span style=\"color: #00af00; text-decoration-color: #00af00\">1,024</span> │\n",
       "│ (<span style=\"color: #0087ff; text-decoration-color: #0087ff\">BatchNormalization</span>)                 │                             │                 │\n",
       "├──────────────────────────────────────┼─────────────────────────────┼─────────────────┤\n",
       "│ conv2d_4 (<span style=\"color: #0087ff; text-decoration-color: #0087ff\">Conv2D</span>)                    │ (<span style=\"color: #00d7ff; text-decoration-color: #00d7ff\">None</span>, <span style=\"color: #00af00; text-decoration-color: #00af00\">24</span>, <span style=\"color: #00af00; text-decoration-color: #00af00\">24</span>, <span style=\"color: #00af00; text-decoration-color: #00af00\">256</span>)         │          <span style=\"color: #00af00; text-decoration-color: #00af00\">65,792</span> │\n",
       "├──────────────────────────────────────┼─────────────────────────────┼─────────────────┤\n",
       "│ batch_normalization_4                │ (<span style=\"color: #00d7ff; text-decoration-color: #00d7ff\">None</span>, <span style=\"color: #00af00; text-decoration-color: #00af00\">24</span>, <span style=\"color: #00af00; text-decoration-color: #00af00\">24</span>, <span style=\"color: #00af00; text-decoration-color: #00af00\">256</span>)         │           <span style=\"color: #00af00; text-decoration-color: #00af00\">1,024</span> │\n",
       "│ (<span style=\"color: #0087ff; text-decoration-color: #0087ff\">BatchNormalization</span>)                 │                             │                 │\n",
       "├──────────────────────────────────────┼─────────────────────────────┼─────────────────┤\n",
       "│ conv2d_5 (<span style=\"color: #0087ff; text-decoration-color: #0087ff\">Conv2D</span>)                    │ (<span style=\"color: #00d7ff; text-decoration-color: #00d7ff\">None</span>, <span style=\"color: #00af00; text-decoration-color: #00af00\">24</span>, <span style=\"color: #00af00; text-decoration-color: #00af00\">24</span>, <span style=\"color: #00af00; text-decoration-color: #00af00\">512</span>)         │       <span style=\"color: #00af00; text-decoration-color: #00af00\">1,180,160</span> │\n",
       "├──────────────────────────────────────┼─────────────────────────────┼─────────────────┤\n",
       "│ batch_normalization_5                │ (<span style=\"color: #00d7ff; text-decoration-color: #00d7ff\">None</span>, <span style=\"color: #00af00; text-decoration-color: #00af00\">24</span>, <span style=\"color: #00af00; text-decoration-color: #00af00\">24</span>, <span style=\"color: #00af00; text-decoration-color: #00af00\">512</span>)         │           <span style=\"color: #00af00; text-decoration-color: #00af00\">2,048</span> │\n",
       "│ (<span style=\"color: #0087ff; text-decoration-color: #0087ff\">BatchNormalization</span>)                 │                             │                 │\n",
       "├──────────────────────────────────────┼─────────────────────────────┼─────────────────┤\n",
       "│ max_pooling2d_1 (<span style=\"color: #0087ff; text-decoration-color: #0087ff\">MaxPooling2D</span>)       │ (<span style=\"color: #00d7ff; text-decoration-color: #00d7ff\">None</span>, <span style=\"color: #00af00; text-decoration-color: #00af00\">12</span>, <span style=\"color: #00af00; text-decoration-color: #00af00\">12</span>, <span style=\"color: #00af00; text-decoration-color: #00af00\">512</span>)         │               <span style=\"color: #00af00; text-decoration-color: #00af00\">0</span> │\n",
       "├──────────────────────────────────────┼─────────────────────────────┼─────────────────┤\n",
       "│ conv2d_6 (<span style=\"color: #0087ff; text-decoration-color: #0087ff\">Conv2D</span>)                    │ (<span style=\"color: #00d7ff; text-decoration-color: #00d7ff\">None</span>, <span style=\"color: #00af00; text-decoration-color: #00af00\">12</span>, <span style=\"color: #00af00; text-decoration-color: #00af00\">12</span>, <span style=\"color: #00af00; text-decoration-color: #00af00\">512</span>)         │       <span style=\"color: #00af00; text-decoration-color: #00af00\">2,359,808</span> │\n",
       "├──────────────────────────────────────┼─────────────────────────────┼─────────────────┤\n",
       "│ batch_normalization_6                │ (<span style=\"color: #00d7ff; text-decoration-color: #00d7ff\">None</span>, <span style=\"color: #00af00; text-decoration-color: #00af00\">12</span>, <span style=\"color: #00af00; text-decoration-color: #00af00\">12</span>, <span style=\"color: #00af00; text-decoration-color: #00af00\">512</span>)         │           <span style=\"color: #00af00; text-decoration-color: #00af00\">2,048</span> │\n",
       "│ (<span style=\"color: #0087ff; text-decoration-color: #0087ff\">BatchNormalization</span>)                 │                             │                 │\n",
       "├──────────────────────────────────────┼─────────────────────────────┼─────────────────┤\n",
       "│ conv2d_7 (<span style=\"color: #0087ff; text-decoration-color: #0087ff\">Conv2D</span>)                    │ (<span style=\"color: #00d7ff; text-decoration-color: #00d7ff\">None</span>, <span style=\"color: #00af00; text-decoration-color: #00af00\">12</span>, <span style=\"color: #00af00; text-decoration-color: #00af00\">12</span>, <span style=\"color: #00af00; text-decoration-color: #00af00\">512</span>)         │       <span style=\"color: #00af00; text-decoration-color: #00af00\">2,359,808</span> │\n",
       "├──────────────────────────────────────┼─────────────────────────────┼─────────────────┤\n",
       "│ batch_normalization_7                │ (<span style=\"color: #00d7ff; text-decoration-color: #00d7ff\">None</span>, <span style=\"color: #00af00; text-decoration-color: #00af00\">12</span>, <span style=\"color: #00af00; text-decoration-color: #00af00\">12</span>, <span style=\"color: #00af00; text-decoration-color: #00af00\">512</span>)         │           <span style=\"color: #00af00; text-decoration-color: #00af00\">2,048</span> │\n",
       "│ (<span style=\"color: #0087ff; text-decoration-color: #0087ff\">BatchNormalization</span>)                 │                             │                 │\n",
       "├──────────────────────────────────────┼─────────────────────────────┼─────────────────┤\n",
       "│ max_pooling2d_2 (<span style=\"color: #0087ff; text-decoration-color: #0087ff\">MaxPooling2D</span>)       │ (<span style=\"color: #00d7ff; text-decoration-color: #00d7ff\">None</span>, <span style=\"color: #00af00; text-decoration-color: #00af00\">6</span>, <span style=\"color: #00af00; text-decoration-color: #00af00\">6</span>, <span style=\"color: #00af00; text-decoration-color: #00af00\">512</span>)           │               <span style=\"color: #00af00; text-decoration-color: #00af00\">0</span> │\n",
       "├──────────────────────────────────────┼─────────────────────────────┼─────────────────┤\n",
       "│ conv2d_8 (<span style=\"color: #0087ff; text-decoration-color: #0087ff\">Conv2D</span>)                    │ (<span style=\"color: #00d7ff; text-decoration-color: #00d7ff\">None</span>, <span style=\"color: #00af00; text-decoration-color: #00af00\">6</span>, <span style=\"color: #00af00; text-decoration-color: #00af00\">6</span>, <span style=\"color: #00af00; text-decoration-color: #00af00\">512</span>)           │       <span style=\"color: #00af00; text-decoration-color: #00af00\">2,359,808</span> │\n",
       "├──────────────────────────────────────┼─────────────────────────────┼─────────────────┤\n",
       "│ batch_normalization_8                │ (<span style=\"color: #00d7ff; text-decoration-color: #00d7ff\">None</span>, <span style=\"color: #00af00; text-decoration-color: #00af00\">6</span>, <span style=\"color: #00af00; text-decoration-color: #00af00\">6</span>, <span style=\"color: #00af00; text-decoration-color: #00af00\">512</span>)           │           <span style=\"color: #00af00; text-decoration-color: #00af00\">2,048</span> │\n",
       "│ (<span style=\"color: #0087ff; text-decoration-color: #0087ff\">BatchNormalization</span>)                 │                             │                 │\n",
       "├──────────────────────────────────────┼─────────────────────────────┼─────────────────┤\n",
       "│ max_pooling2d_3 (<span style=\"color: #0087ff; text-decoration-color: #0087ff\">MaxPooling2D</span>)       │ (<span style=\"color: #00d7ff; text-decoration-color: #00d7ff\">None</span>, <span style=\"color: #00af00; text-decoration-color: #00af00\">3</span>, <span style=\"color: #00af00; text-decoration-color: #00af00\">3</span>, <span style=\"color: #00af00; text-decoration-color: #00af00\">512</span>)           │               <span style=\"color: #00af00; text-decoration-color: #00af00\">0</span> │\n",
       "├──────────────────────────────────────┼─────────────────────────────┼─────────────────┤\n",
       "│ flatten (<span style=\"color: #0087ff; text-decoration-color: #0087ff\">Flatten</span>)                    │ (<span style=\"color: #00d7ff; text-decoration-color: #00d7ff\">None</span>, <span style=\"color: #00af00; text-decoration-color: #00af00\">4608</span>)                │               <span style=\"color: #00af00; text-decoration-color: #00af00\">0</span> │\n",
       "├──────────────────────────────────────┼─────────────────────────────┼─────────────────┤\n",
       "│ dense (<span style=\"color: #0087ff; text-decoration-color: #0087ff\">Dense</span>)                        │ (<span style=\"color: #00d7ff; text-decoration-color: #00d7ff\">None</span>, <span style=\"color: #00af00; text-decoration-color: #00af00\">1024</span>)                │       <span style=\"color: #00af00; text-decoration-color: #00af00\">4,719,616</span> │\n",
       "├──────────────────────────────────────┼─────────────────────────────┼─────────────────┤\n",
       "│ dropout (<span style=\"color: #0087ff; text-decoration-color: #0087ff\">Dropout</span>)                    │ (<span style=\"color: #00d7ff; text-decoration-color: #00d7ff\">None</span>, <span style=\"color: #00af00; text-decoration-color: #00af00\">1024</span>)                │               <span style=\"color: #00af00; text-decoration-color: #00af00\">0</span> │\n",
       "├──────────────────────────────────────┼─────────────────────────────┼─────────────────┤\n",
       "│ dense_1 (<span style=\"color: #0087ff; text-decoration-color: #0087ff\">Dense</span>)                      │ (<span style=\"color: #00d7ff; text-decoration-color: #00d7ff\">None</span>, <span style=\"color: #00af00; text-decoration-color: #00af00\">1024</span>)                │       <span style=\"color: #00af00; text-decoration-color: #00af00\">1,049,600</span> │\n",
       "├──────────────────────────────────────┼─────────────────────────────┼─────────────────┤\n",
       "│ dropout_1 (<span style=\"color: #0087ff; text-decoration-color: #0087ff\">Dropout</span>)                  │ (<span style=\"color: #00d7ff; text-decoration-color: #00d7ff\">None</span>, <span style=\"color: #00af00; text-decoration-color: #00af00\">1024</span>)                │               <span style=\"color: #00af00; text-decoration-color: #00af00\">0</span> │\n",
       "├──────────────────────────────────────┼─────────────────────────────┼─────────────────┤\n",
       "│ dense_2 (<span style=\"color: #0087ff; text-decoration-color: #0087ff\">Dense</span>)                      │ (<span style=\"color: #00d7ff; text-decoration-color: #00d7ff\">None</span>, <span style=\"color: #00af00; text-decoration-color: #00af00\">3</span>)                   │           <span style=\"color: #00af00; text-decoration-color: #00af00\">3,075</span> │\n",
       "└──────────────────────────────────────┴─────────────────────────────┴─────────────────┘\n",
       "</pre>\n"
      ],
      "text/plain": [
       "┏━━━━━━━━━━━━━━━━━━━━━━━━━━━━━━━━━━━━━━┳━━━━━━━━━━━━━━━━━━━━━━━━━━━━━┳━━━━━━━━━━━━━━━━━┓\n",
       "┃\u001b[1m \u001b[0m\u001b[1mLayer (type)                        \u001b[0m\u001b[1m \u001b[0m┃\u001b[1m \u001b[0m\u001b[1mOutput Shape               \u001b[0m\u001b[1m \u001b[0m┃\u001b[1m \u001b[0m\u001b[1m        Param #\u001b[0m\u001b[1m \u001b[0m┃\n",
       "┡━━━━━━━━━━━━━━━━━━━━━━━━━━━━━━━━━━━━━━╇━━━━━━━━━━━━━━━━━━━━━━━━━━━━━╇━━━━━━━━━━━━━━━━━┩\n",
       "│ conv2d (\u001b[38;5;33mConv2D\u001b[0m)                      │ (\u001b[38;5;45mNone\u001b[0m, \u001b[38;5;34m73\u001b[0m, \u001b[38;5;34m73\u001b[0m, \u001b[38;5;34m128\u001b[0m)         │          \u001b[38;5;34m24,704\u001b[0m │\n",
       "├──────────────────────────────────────┼─────────────────────────────┼─────────────────┤\n",
       "│ batch_normalization                  │ (\u001b[38;5;45mNone\u001b[0m, \u001b[38;5;34m73\u001b[0m, \u001b[38;5;34m73\u001b[0m, \u001b[38;5;34m128\u001b[0m)         │             \u001b[38;5;34m512\u001b[0m │\n",
       "│ (\u001b[38;5;33mBatchNormalization\u001b[0m)                 │                             │                 │\n",
       "├──────────────────────────────────────┼─────────────────────────────┼─────────────────┤\n",
       "│ conv2d_1 (\u001b[38;5;33mConv2D\u001b[0m)                    │ (\u001b[38;5;45mNone\u001b[0m, \u001b[38;5;34m73\u001b[0m, \u001b[38;5;34m73\u001b[0m, \u001b[38;5;34m256\u001b[0m)         │         \u001b[38;5;34m819,456\u001b[0m │\n",
       "├──────────────────────────────────────┼─────────────────────────────┼─────────────────┤\n",
       "│ batch_normalization_1                │ (\u001b[38;5;45mNone\u001b[0m, \u001b[38;5;34m73\u001b[0m, \u001b[38;5;34m73\u001b[0m, \u001b[38;5;34m256\u001b[0m)         │           \u001b[38;5;34m1,024\u001b[0m │\n",
       "│ (\u001b[38;5;33mBatchNormalization\u001b[0m)                 │                             │                 │\n",
       "├──────────────────────────────────────┼─────────────────────────────┼─────────────────┤\n",
       "│ max_pooling2d (\u001b[38;5;33mMaxPooling2D\u001b[0m)         │ (\u001b[38;5;45mNone\u001b[0m, \u001b[38;5;34m24\u001b[0m, \u001b[38;5;34m24\u001b[0m, \u001b[38;5;34m256\u001b[0m)         │               \u001b[38;5;34m0\u001b[0m │\n",
       "├──────────────────────────────────────┼─────────────────────────────┼─────────────────┤\n",
       "│ conv2d_2 (\u001b[38;5;33mConv2D\u001b[0m)                    │ (\u001b[38;5;45mNone\u001b[0m, \u001b[38;5;34m24\u001b[0m, \u001b[38;5;34m24\u001b[0m, \u001b[38;5;34m256\u001b[0m)         │         \u001b[38;5;34m590,080\u001b[0m │\n",
       "├──────────────────────────────────────┼─────────────────────────────┼─────────────────┤\n",
       "│ batch_normalization_2                │ (\u001b[38;5;45mNone\u001b[0m, \u001b[38;5;34m24\u001b[0m, \u001b[38;5;34m24\u001b[0m, \u001b[38;5;34m256\u001b[0m)         │           \u001b[38;5;34m1,024\u001b[0m │\n",
       "│ (\u001b[38;5;33mBatchNormalization\u001b[0m)                 │                             │                 │\n",
       "├──────────────────────────────────────┼─────────────────────────────┼─────────────────┤\n",
       "│ conv2d_3 (\u001b[38;5;33mConv2D\u001b[0m)                    │ (\u001b[38;5;45mNone\u001b[0m, \u001b[38;5;34m24\u001b[0m, \u001b[38;5;34m24\u001b[0m, \u001b[38;5;34m256\u001b[0m)         │          \u001b[38;5;34m65,792\u001b[0m │\n",
       "├──────────────────────────────────────┼─────────────────────────────┼─────────────────┤\n",
       "│ batch_normalization_3                │ (\u001b[38;5;45mNone\u001b[0m, \u001b[38;5;34m24\u001b[0m, \u001b[38;5;34m24\u001b[0m, \u001b[38;5;34m256\u001b[0m)         │           \u001b[38;5;34m1,024\u001b[0m │\n",
       "│ (\u001b[38;5;33mBatchNormalization\u001b[0m)                 │                             │                 │\n",
       "├──────────────────────────────────────┼─────────────────────────────┼─────────────────┤\n",
       "│ conv2d_4 (\u001b[38;5;33mConv2D\u001b[0m)                    │ (\u001b[38;5;45mNone\u001b[0m, \u001b[38;5;34m24\u001b[0m, \u001b[38;5;34m24\u001b[0m, \u001b[38;5;34m256\u001b[0m)         │          \u001b[38;5;34m65,792\u001b[0m │\n",
       "├──────────────────────────────────────┼─────────────────────────────┼─────────────────┤\n",
       "│ batch_normalization_4                │ (\u001b[38;5;45mNone\u001b[0m, \u001b[38;5;34m24\u001b[0m, \u001b[38;5;34m24\u001b[0m, \u001b[38;5;34m256\u001b[0m)         │           \u001b[38;5;34m1,024\u001b[0m │\n",
       "│ (\u001b[38;5;33mBatchNormalization\u001b[0m)                 │                             │                 │\n",
       "├──────────────────────────────────────┼─────────────────────────────┼─────────────────┤\n",
       "│ conv2d_5 (\u001b[38;5;33mConv2D\u001b[0m)                    │ (\u001b[38;5;45mNone\u001b[0m, \u001b[38;5;34m24\u001b[0m, \u001b[38;5;34m24\u001b[0m, \u001b[38;5;34m512\u001b[0m)         │       \u001b[38;5;34m1,180,160\u001b[0m │\n",
       "├──────────────────────────────────────┼─────────────────────────────┼─────────────────┤\n",
       "│ batch_normalization_5                │ (\u001b[38;5;45mNone\u001b[0m, \u001b[38;5;34m24\u001b[0m, \u001b[38;5;34m24\u001b[0m, \u001b[38;5;34m512\u001b[0m)         │           \u001b[38;5;34m2,048\u001b[0m │\n",
       "│ (\u001b[38;5;33mBatchNormalization\u001b[0m)                 │                             │                 │\n",
       "├──────────────────────────────────────┼─────────────────────────────┼─────────────────┤\n",
       "│ max_pooling2d_1 (\u001b[38;5;33mMaxPooling2D\u001b[0m)       │ (\u001b[38;5;45mNone\u001b[0m, \u001b[38;5;34m12\u001b[0m, \u001b[38;5;34m12\u001b[0m, \u001b[38;5;34m512\u001b[0m)         │               \u001b[38;5;34m0\u001b[0m │\n",
       "├──────────────────────────────────────┼─────────────────────────────┼─────────────────┤\n",
       "│ conv2d_6 (\u001b[38;5;33mConv2D\u001b[0m)                    │ (\u001b[38;5;45mNone\u001b[0m, \u001b[38;5;34m12\u001b[0m, \u001b[38;5;34m12\u001b[0m, \u001b[38;5;34m512\u001b[0m)         │       \u001b[38;5;34m2,359,808\u001b[0m │\n",
       "├──────────────────────────────────────┼─────────────────────────────┼─────────────────┤\n",
       "│ batch_normalization_6                │ (\u001b[38;5;45mNone\u001b[0m, \u001b[38;5;34m12\u001b[0m, \u001b[38;5;34m12\u001b[0m, \u001b[38;5;34m512\u001b[0m)         │           \u001b[38;5;34m2,048\u001b[0m │\n",
       "│ (\u001b[38;5;33mBatchNormalization\u001b[0m)                 │                             │                 │\n",
       "├──────────────────────────────────────┼─────────────────────────────┼─────────────────┤\n",
       "│ conv2d_7 (\u001b[38;5;33mConv2D\u001b[0m)                    │ (\u001b[38;5;45mNone\u001b[0m, \u001b[38;5;34m12\u001b[0m, \u001b[38;5;34m12\u001b[0m, \u001b[38;5;34m512\u001b[0m)         │       \u001b[38;5;34m2,359,808\u001b[0m │\n",
       "├──────────────────────────────────────┼─────────────────────────────┼─────────────────┤\n",
       "│ batch_normalization_7                │ (\u001b[38;5;45mNone\u001b[0m, \u001b[38;5;34m12\u001b[0m, \u001b[38;5;34m12\u001b[0m, \u001b[38;5;34m512\u001b[0m)         │           \u001b[38;5;34m2,048\u001b[0m │\n",
       "│ (\u001b[38;5;33mBatchNormalization\u001b[0m)                 │                             │                 │\n",
       "├──────────────────────────────────────┼─────────────────────────────┼─────────────────┤\n",
       "│ max_pooling2d_2 (\u001b[38;5;33mMaxPooling2D\u001b[0m)       │ (\u001b[38;5;45mNone\u001b[0m, \u001b[38;5;34m6\u001b[0m, \u001b[38;5;34m6\u001b[0m, \u001b[38;5;34m512\u001b[0m)           │               \u001b[38;5;34m0\u001b[0m │\n",
       "├──────────────────────────────────────┼─────────────────────────────┼─────────────────┤\n",
       "│ conv2d_8 (\u001b[38;5;33mConv2D\u001b[0m)                    │ (\u001b[38;5;45mNone\u001b[0m, \u001b[38;5;34m6\u001b[0m, \u001b[38;5;34m6\u001b[0m, \u001b[38;5;34m512\u001b[0m)           │       \u001b[38;5;34m2,359,808\u001b[0m │\n",
       "├──────────────────────────────────────┼─────────────────────────────┼─────────────────┤\n",
       "│ batch_normalization_8                │ (\u001b[38;5;45mNone\u001b[0m, \u001b[38;5;34m6\u001b[0m, \u001b[38;5;34m6\u001b[0m, \u001b[38;5;34m512\u001b[0m)           │           \u001b[38;5;34m2,048\u001b[0m │\n",
       "│ (\u001b[38;5;33mBatchNormalization\u001b[0m)                 │                             │                 │\n",
       "├──────────────────────────────────────┼─────────────────────────────┼─────────────────┤\n",
       "│ max_pooling2d_3 (\u001b[38;5;33mMaxPooling2D\u001b[0m)       │ (\u001b[38;5;45mNone\u001b[0m, \u001b[38;5;34m3\u001b[0m, \u001b[38;5;34m3\u001b[0m, \u001b[38;5;34m512\u001b[0m)           │               \u001b[38;5;34m0\u001b[0m │\n",
       "├──────────────────────────────────────┼─────────────────────────────┼─────────────────┤\n",
       "│ flatten (\u001b[38;5;33mFlatten\u001b[0m)                    │ (\u001b[38;5;45mNone\u001b[0m, \u001b[38;5;34m4608\u001b[0m)                │               \u001b[38;5;34m0\u001b[0m │\n",
       "├──────────────────────────────────────┼─────────────────────────────┼─────────────────┤\n",
       "│ dense (\u001b[38;5;33mDense\u001b[0m)                        │ (\u001b[38;5;45mNone\u001b[0m, \u001b[38;5;34m1024\u001b[0m)                │       \u001b[38;5;34m4,719,616\u001b[0m │\n",
       "├──────────────────────────────────────┼─────────────────────────────┼─────────────────┤\n",
       "│ dropout (\u001b[38;5;33mDropout\u001b[0m)                    │ (\u001b[38;5;45mNone\u001b[0m, \u001b[38;5;34m1024\u001b[0m)                │               \u001b[38;5;34m0\u001b[0m │\n",
       "├──────────────────────────────────────┼─────────────────────────────┼─────────────────┤\n",
       "│ dense_1 (\u001b[38;5;33mDense\u001b[0m)                      │ (\u001b[38;5;45mNone\u001b[0m, \u001b[38;5;34m1024\u001b[0m)                │       \u001b[38;5;34m1,049,600\u001b[0m │\n",
       "├──────────────────────────────────────┼─────────────────────────────┼─────────────────┤\n",
       "│ dropout_1 (\u001b[38;5;33mDropout\u001b[0m)                  │ (\u001b[38;5;45mNone\u001b[0m, \u001b[38;5;34m1024\u001b[0m)                │               \u001b[38;5;34m0\u001b[0m │\n",
       "├──────────────────────────────────────┼─────────────────────────────┼─────────────────┤\n",
       "│ dense_2 (\u001b[38;5;33mDense\u001b[0m)                      │ (\u001b[38;5;45mNone\u001b[0m, \u001b[38;5;34m3\u001b[0m)                   │           \u001b[38;5;34m3,075\u001b[0m │\n",
       "└──────────────────────────────────────┴─────────────────────────────┴─────────────────┘\n"
      ]
     },
     "metadata": {},
     "output_type": "display_data"
    },
    {
     "data": {
      "text/html": [
       "<pre style=\"white-space:pre;overflow-x:auto;line-height:normal;font-family:Menlo,'DejaVu Sans Mono',consolas,'Courier New',monospace\"><span style=\"font-weight: bold\"> Total params: </span><span style=\"color: #00af00; text-decoration-color: #00af00\">15,610,499</span> (59.55 MB)\n",
       "</pre>\n"
      ],
      "text/plain": [
       "\u001b[1m Total params: \u001b[0m\u001b[38;5;34m15,610,499\u001b[0m (59.55 MB)\n"
      ]
     },
     "metadata": {},
     "output_type": "display_data"
    },
    {
     "data": {
      "text/html": [
       "<pre style=\"white-space:pre;overflow-x:auto;line-height:normal;font-family:Menlo,'DejaVu Sans Mono',consolas,'Courier New',monospace\"><span style=\"font-weight: bold\"> Trainable params: </span><span style=\"color: #00af00; text-decoration-color: #00af00\">15,604,099</span> (59.52 MB)\n",
       "</pre>\n"
      ],
      "text/plain": [
       "\u001b[1m Trainable params: \u001b[0m\u001b[38;5;34m15,604,099\u001b[0m (59.52 MB)\n"
      ]
     },
     "metadata": {},
     "output_type": "display_data"
    },
    {
     "data": {
      "text/html": [
       "<pre style=\"white-space:pre;overflow-x:auto;line-height:normal;font-family:Menlo,'DejaVu Sans Mono',consolas,'Courier New',monospace\"><span style=\"font-weight: bold\"> Non-trainable params: </span><span style=\"color: #00af00; text-decoration-color: #00af00\">6,400</span> (25.00 KB)\n",
       "</pre>\n"
      ],
      "text/plain": [
       "\u001b[1m Non-trainable params: \u001b[0m\u001b[38;5;34m6,400\u001b[0m (25.00 KB)\n"
      ]
     },
     "metadata": {},
     "output_type": "display_data"
    }
   ],
   "source": [
    "model = keras.models.Sequential([\n",
    "    keras.layers.Conv2D(filters=128, kernel_size=(8, 8), strides=(3, 3), activation='relu', input_shape=(224, 224, 3)),\n",
    "    keras.layers.BatchNormalization(),\n",
    "\n",
    "    keras.layers.Conv2D(filters=256, kernel_size=(5, 5), strides=(1, 1), activation='relu', padding=\"same\"),\n",
    "    keras.layers.BatchNormalization(),\n",
    "    keras.layers.MaxPool2D(pool_size=(3, 3)),\n",
    "\n",
    "    keras.layers.Conv2D(filters=256, kernel_size=(3, 3), strides=(1, 1), activation='relu', padding=\"same\"),\n",
    "    keras.layers.BatchNormalization(),\n",
    "    keras.layers.Conv2D(filters=256, kernel_size=(1, 1), strides=(1, 1), activation='relu', padding=\"same\"),\n",
    "    keras.layers.BatchNormalization(),\n",
    "    keras.layers.Conv2D(filters=256, kernel_size=(1, 1), strides=(1, 1), activation='relu', padding=\"same\"),\n",
    "    keras.layers.BatchNormalization(),\n",
    "\n",
    "    keras.layers.Conv2D(filters=512, kernel_size=(3, 3), activation='relu', padding=\"same\"),\n",
    "    keras.layers.BatchNormalization(),\n",
    "    keras.layers.MaxPool2D(pool_size=(2, 2)),\n",
    "\n",
    "    keras.layers.Conv2D(filters=512, kernel_size=(3, 3), activation='relu', padding=\"same\"),\n",
    "    keras.layers.BatchNormalization(),\n",
    "\n",
    "    keras.layers.Conv2D(filters=512, kernel_size=(3, 3), activation='relu', padding=\"same\"),\n",
    "    keras.layers.BatchNormalization(),\n",
    "\n",
    "    keras.layers.MaxPool2D(pool_size=(2, 2)),\n",
    "\n",
    "    keras.layers.Conv2D(filters=512, kernel_size=(3, 3), activation='relu', padding=\"same\"),\n",
    "    keras.layers.BatchNormalization(),\n",
    "\n",
    "    keras.layers.MaxPool2D(pool_size=(2, 2)),\n",
    "\n",
    "    keras.layers.Flatten(),\n",
    "    keras.layers.Dense(1024, activation='relu'),\n",
    "    keras.layers.Dropout(0.5),\n",
    "    keras.layers.Dense(1024, activation='relu'),\n",
    "    keras.layers.Dropout(0.5),\n",
    "    keras.layers.Dense(3, activation='softmax')\n",
    "])\n",
    "\n",
    "model.compile(\n",
    "    loss='categorical_crossentropy',\n",
    "    optimizer='adam',\n",
    "    metrics=['accuracy']\n",
    ")\n",
    "\n",
    "model.summary()"
   ]
  },
  {
   "cell_type": "code",
   "execution_count": null,
   "metadata": {
    "id": "qE1gb2dENi6c"
   },
   "outputs": [],
   "source": [
    "from tensorflow.keras.callbacks import EarlyStopping, ReduceLROnPlateau, ModelCheckpoint\n",
    "\n",
    "checkpoint = ModelCheckpoint(filepath=f\"checkpoint-combined_model.keras\", verbose=1, save_best_only=True)\n",
    "reduce_lr = ReduceLROnPlateau(monitor='val_loss', factor=0.5, patience=5, min_lr=1e-7, verbose=1)\n",
    "early_stopping = EarlyStopping(monitor='val_loss', patience=5, restore_best_weights=True)\n",
    "\n",
    "\n",
    "callbacks = [early_stopping, checkpoint, reduce_lr]"
   ]
  },
  {
   "cell_type": "code",
   "execution_count": null,
   "metadata": {
    "colab": {
     "base_uri": "https://localhost:8080/"
    },
    "executionInfo": {
     "elapsed": 2930757,
     "status": "ok",
     "timestamp": 1737438495193,
     "user": {
      "displayName": "Mauliana",
      "userId": "04631804011909403256"
     },
     "user_tz": -420
    },
    "id": "aFcc1aQ1Nq5V",
    "outputId": "f0a60257-b6a4-401a-f155-abbdb0ca2cb7"
   },
   "outputs": [
    {
     "name": "stdout",
     "output_type": "stream",
     "text": [
      "Epoch 1/100\n"
     ]
    },
    {
     "name": "stderr",
     "output_type": "stream",
     "text": [
      "/usr/local/lib/python3.11/dist-packages/keras/src/trainers/data_adapters/py_dataset_adapter.py:122: UserWarning: Your `PyDataset` class should call `super().__init__(**kwargs)` in its constructor. `**kwargs` can include `workers`, `use_multiprocessing`, `max_queue_size`. Do not pass these arguments to `fit()`, as they will be ignored.\n",
      "  self._warn_if_super_not_called()\n"
     ]
    },
    {
     "name": "stdout",
     "output_type": "stream",
     "text": [
      "\u001b[1m272/272\u001b[0m \u001b[32m━━━━━━━━━━━━━━━━━━━━\u001b[0m\u001b[37m\u001b[0m \u001b[1m0s\u001b[0m 329ms/step - accuracy: 0.7916 - loss: 1.8514\n",
      "Epoch 1: val_loss improved from inf to 0.26179, saving model to checkpoint-combined_model.keras\n",
      "\u001b[1m272/272\u001b[0m \u001b[32m━━━━━━━━━━━━━━━━━━━━\u001b[0m\u001b[37m\u001b[0m \u001b[1m157s\u001b[0m 462ms/step - accuracy: 0.7918 - loss: 1.8487 - val_accuracy: 0.9427 - val_loss: 0.2618 - learning_rate: 0.0010\n",
      "Epoch 2/100\n",
      "\u001b[1m272/272\u001b[0m \u001b[32m━━━━━━━━━━━━━━━━━━━━\u001b[0m\u001b[37m\u001b[0m \u001b[1m0s\u001b[0m 254ms/step - accuracy: 0.9201 - loss: 0.3797\n",
      "Epoch 2: val_loss did not improve from 0.26179\n",
      "\u001b[1m272/272\u001b[0m \u001b[32m━━━━━━━━━━━━━━━━━━━━\u001b[0m\u001b[37m\u001b[0m \u001b[1m91s\u001b[0m 330ms/step - accuracy: 0.9200 - loss: 0.3804 - val_accuracy: 0.5636 - val_loss: 47.2544 - learning_rate: 0.0010\n",
      "Epoch 3/100\n",
      "\u001b[1m272/272\u001b[0m \u001b[32m━━━━━━━━━━━━━━━━━━━━\u001b[0m\u001b[37m\u001b[0m \u001b[1m0s\u001b[0m 256ms/step - accuracy: 0.9270 - loss: 0.2314\n",
      "Epoch 3: val_loss improved from 0.26179 to 0.16716, saving model to checkpoint-combined_model.keras\n",
      "\u001b[1m272/272\u001b[0m \u001b[32m━━━━━━━━━━━━━━━━━━━━\u001b[0m\u001b[37m\u001b[0m \u001b[1m92s\u001b[0m 335ms/step - accuracy: 0.9270 - loss: 0.2314 - val_accuracy: 0.9507 - val_loss: 0.1672 - learning_rate: 0.0010\n",
      "Epoch 4/100\n",
      "\u001b[1m272/272\u001b[0m \u001b[32m━━━━━━━━━━━━━━━━━━━━\u001b[0m\u001b[37m\u001b[0m \u001b[1m0s\u001b[0m 258ms/step - accuracy: 0.9430 - loss: 0.1730\n",
      "Epoch 4: val_loss improved from 0.16716 to 0.14629, saving model to checkpoint-combined_model.keras\n",
      "\u001b[1m272/272\u001b[0m \u001b[32m━━━━━━━━━━━━━━━━━━━━\u001b[0m\u001b[37m\u001b[0m \u001b[1m141s\u001b[0m 333ms/step - accuracy: 0.9431 - loss: 0.1730 - val_accuracy: 0.9589 - val_loss: 0.1463 - learning_rate: 0.0010\n",
      "Epoch 5/100\n",
      "\u001b[1m272/272\u001b[0m \u001b[32m━━━━━━━━━━━━━━━━━━━━\u001b[0m\u001b[37m\u001b[0m \u001b[1m0s\u001b[0m 254ms/step - accuracy: 0.9515 - loss: 0.1422\n",
      "Epoch 5: val_loss did not improve from 0.14629\n",
      "\u001b[1m272/272\u001b[0m \u001b[32m━━━━━━━━━━━━━━━━━━━━\u001b[0m\u001b[37m\u001b[0m \u001b[1m92s\u001b[0m 329ms/step - accuracy: 0.9515 - loss: 0.1423 - val_accuracy: 0.8339 - val_loss: 0.4875 - learning_rate: 0.0010\n",
      "Epoch 6/100\n",
      "\u001b[1m272/272\u001b[0m \u001b[32m━━━━━━━━━━━━━━━━━━━━\u001b[0m\u001b[37m\u001b[0m \u001b[1m0s\u001b[0m 252ms/step - accuracy: 0.9443 - loss: 0.3276\n",
      "Epoch 6: val_loss did not improve from 0.14629\n",
      "\u001b[1m272/272\u001b[0m \u001b[32m━━━━━━━━━━━━━━━━━━━━\u001b[0m\u001b[37m\u001b[0m \u001b[1m141s\u001b[0m 328ms/step - accuracy: 0.9441 - loss: 0.3286 - val_accuracy: 0.8989 - val_loss: 0.3236 - learning_rate: 0.0010\n",
      "Epoch 7/100\n",
      "\u001b[1m272/272\u001b[0m \u001b[32m━━━━━━━━━━━━━━━━━━━━\u001b[0m\u001b[37m\u001b[0m \u001b[1m0s\u001b[0m 257ms/step - accuracy: 0.9328 - loss: 0.2504\n",
      "Epoch 7: val_loss improved from 0.14629 to 0.09139, saving model to checkpoint-combined_model.keras\n",
      "\u001b[1m272/272\u001b[0m \u001b[32m━━━━━━━━━━━━━━━━━━━━\u001b[0m\u001b[37m\u001b[0m \u001b[1m92s\u001b[0m 333ms/step - accuracy: 0.9329 - loss: 0.2503 - val_accuracy: 0.9663 - val_loss: 0.0914 - learning_rate: 0.0010\n",
      "Epoch 8/100\n",
      "\u001b[1m272/272\u001b[0m \u001b[32m━━━━━━━━━━━━━━━━━━━━\u001b[0m\u001b[37m\u001b[0m \u001b[1m0s\u001b[0m 249ms/step - accuracy: 0.9536 - loss: 0.1443\n",
      "Epoch 8: val_loss improved from 0.09139 to 0.08638, saving model to checkpoint-combined_model.keras\n",
      "\u001b[1m272/272\u001b[0m \u001b[32m━━━━━━━━━━━━━━━━━━━━\u001b[0m\u001b[37m\u001b[0m \u001b[1m91s\u001b[0m 328ms/step - accuracy: 0.9536 - loss: 0.1443 - val_accuracy: 0.9706 - val_loss: 0.0864 - learning_rate: 0.0010\n",
      "Epoch 9/100\n",
      "\u001b[1m272/272\u001b[0m \u001b[32m━━━━━━━━━━━━━━━━━━━━\u001b[0m\u001b[37m\u001b[0m \u001b[1m0s\u001b[0m 256ms/step - accuracy: 0.9655 - loss: 0.1066\n",
      "Epoch 9: val_loss did not improve from 0.08638\n",
      "\u001b[1m272/272\u001b[0m \u001b[32m━━━━━━━━━━━━━━━━━━━━\u001b[0m\u001b[37m\u001b[0m \u001b[1m112s\u001b[0m 407ms/step - accuracy: 0.9655 - loss: 0.1067 - val_accuracy: 0.9363 - val_loss: 0.2097 - learning_rate: 0.0010\n",
      "Epoch 10/100\n",
      "\u001b[1m272/272\u001b[0m \u001b[32m━━━━━━━━━━━━━━━━━━━━\u001b[0m\u001b[37m\u001b[0m \u001b[1m0s\u001b[0m 252ms/step - accuracy: 0.9590 - loss: 0.1268\n",
      "Epoch 10: val_loss did not improve from 0.08638\n",
      "\u001b[1m272/272\u001b[0m \u001b[32m━━━━━━━━━━━━━━━━━━━━\u001b[0m\u001b[37m\u001b[0m \u001b[1m91s\u001b[0m 329ms/step - accuracy: 0.9590 - loss: 0.1268 - val_accuracy: 0.9715 - val_loss: 0.0878 - learning_rate: 0.0010\n",
      "Epoch 11/100\n",
      "\u001b[1m272/272\u001b[0m \u001b[32m━━━━━━━━━━━━━━━━━━━━\u001b[0m\u001b[37m\u001b[0m \u001b[1m0s\u001b[0m 257ms/step - accuracy: 0.9739 - loss: 0.0806\n",
      "Epoch 11: val_loss improved from 0.08638 to 0.06936, saving model to checkpoint-combined_model.keras\n",
      "\u001b[1m272/272\u001b[0m \u001b[32m━━━━━━━━━━━━━━━━━━━━\u001b[0m\u001b[37m\u001b[0m \u001b[1m93s\u001b[0m 337ms/step - accuracy: 0.9739 - loss: 0.0807 - val_accuracy: 0.9801 - val_loss: 0.0694 - learning_rate: 0.0010\n",
      "Epoch 12/100\n",
      "\u001b[1m272/272\u001b[0m \u001b[32m━━━━━━━━━━━━━━━━━━━━\u001b[0m\u001b[37m\u001b[0m \u001b[1m0s\u001b[0m 274ms/step - accuracy: 0.9810 - loss: 0.0677\n",
      "Epoch 12: val_loss did not improve from 0.06936\n",
      "\u001b[1m272/272\u001b[0m \u001b[32m━━━━━━━━━━━━━━━━━━━━\u001b[0m\u001b[37m\u001b[0m \u001b[1m148s\u001b[0m 358ms/step - accuracy: 0.9809 - loss: 0.0679 - val_accuracy: 0.9203 - val_loss: 0.3122 - learning_rate: 0.0010\n",
      "Epoch 13/100\n",
      "\u001b[1m272/272\u001b[0m \u001b[32m━━━━━━━━━━━━━━━━━━━━\u001b[0m\u001b[37m\u001b[0m \u001b[1m0s\u001b[0m 264ms/step - accuracy: 0.9623 - loss: 0.1314\n",
      "Epoch 13: val_loss did not improve from 0.06936\n",
      "\u001b[1m272/272\u001b[0m \u001b[32m━━━━━━━━━━━━━━━━━━━━\u001b[0m\u001b[37m\u001b[0m \u001b[1m140s\u001b[0m 350ms/step - accuracy: 0.9623 - loss: 0.1314 - val_accuracy: 0.9687 - val_loss: 0.1192 - learning_rate: 0.0010\n",
      "Epoch 14/100\n",
      "\u001b[1m272/272\u001b[0m \u001b[32m━━━━━━━━━━━━━━━━━━━━\u001b[0m\u001b[37m\u001b[0m \u001b[1m0s\u001b[0m 270ms/step - accuracy: 0.9564 - loss: 0.1766\n",
      "Epoch 14: val_loss improved from 0.06936 to 0.06762, saving model to checkpoint-combined_model.keras\n",
      "\u001b[1m272/272\u001b[0m \u001b[32m━━━━━━━━━━━━━━━━━━━━\u001b[0m\u001b[37m\u001b[0m \u001b[1m98s\u001b[0m 353ms/step - accuracy: 0.9564 - loss: 0.1765 - val_accuracy: 0.9810 - val_loss: 0.0676 - learning_rate: 0.0010\n",
      "Epoch 15/100\n",
      "\u001b[1m272/272\u001b[0m \u001b[32m━━━━━━━━━━━━━━━━━━━━\u001b[0m\u001b[37m\u001b[0m \u001b[1m0s\u001b[0m 271ms/step - accuracy: 0.9738 - loss: 0.1032\n",
      "Epoch 15: val_loss improved from 0.06762 to 0.05816, saving model to checkpoint-combined_model.keras\n",
      "\u001b[1m272/272\u001b[0m \u001b[32m━━━━━━━━━━━━━━━━━━━━\u001b[0m\u001b[37m\u001b[0m \u001b[1m143s\u001b[0m 356ms/step - accuracy: 0.9738 - loss: 0.1033 - val_accuracy: 0.9822 - val_loss: 0.0582 - learning_rate: 0.0010\n",
      "Epoch 16/100\n",
      "\u001b[1m272/272\u001b[0m \u001b[32m━━━━━━━━━━━━━━━━━━━━\u001b[0m\u001b[37m\u001b[0m \u001b[1m0s\u001b[0m 297ms/step - accuracy: 0.9774 - loss: 0.0825\n",
      "Epoch 16: val_loss did not improve from 0.05816\n",
      "\u001b[1m272/272\u001b[0m \u001b[32m━━━━━━━━━━━━━━━━━━━━\u001b[0m\u001b[37m\u001b[0m \u001b[1m155s\u001b[0m 404ms/step - accuracy: 0.9774 - loss: 0.0826 - val_accuracy: 0.9142 - val_loss: 0.2868 - learning_rate: 0.0010\n",
      "Epoch 17/100\n",
      "\u001b[1m272/272\u001b[0m \u001b[32m━━━━━━━━━━━━━━━━━━━━\u001b[0m\u001b[37m\u001b[0m \u001b[1m0s\u001b[0m 311ms/step - accuracy: 0.9554 - loss: 0.2529\n",
      "Epoch 17: val_loss did not improve from 0.05816\n",
      "\u001b[1m272/272\u001b[0m \u001b[32m━━━━━━━━━━━━━━━━━━━━\u001b[0m\u001b[37m\u001b[0m \u001b[1m112s\u001b[0m 405ms/step - accuracy: 0.9554 - loss: 0.2527 - val_accuracy: 0.9779 - val_loss: 0.0603 - learning_rate: 0.0010\n",
      "Epoch 18/100\n",
      "\u001b[1m272/272\u001b[0m \u001b[32m━━━━━━━━━━━━━━━━━━━━\u001b[0m\u001b[37m\u001b[0m \u001b[1m0s\u001b[0m 278ms/step - accuracy: 0.9790 - loss: 0.0930\n",
      "Epoch 18: val_loss did not improve from 0.05816\n",
      "\u001b[1m272/272\u001b[0m \u001b[32m━━━━━━━━━━━━━━━━━━━━\u001b[0m\u001b[37m\u001b[0m \u001b[1m130s\u001b[0m 362ms/step - accuracy: 0.9790 - loss: 0.0930 - val_accuracy: 0.9740 - val_loss: 0.0966 - learning_rate: 0.0010\n",
      "Epoch 19/100\n",
      "\u001b[1m272/272\u001b[0m \u001b[32m━━━━━━━━━━━━━━━━━━━━\u001b[0m\u001b[37m\u001b[0m \u001b[1m0s\u001b[0m 276ms/step - accuracy: 0.9559 - loss: 0.2045\n",
      "Epoch 19: val_loss improved from 0.05816 to 0.05743, saving model to checkpoint-combined_model.keras\n",
      "\u001b[1m272/272\u001b[0m \u001b[32m━━━━━━━━━━━━━━━━━━━━\u001b[0m\u001b[37m\u001b[0m \u001b[1m103s\u001b[0m 370ms/step - accuracy: 0.9559 - loss: 0.2043 - val_accuracy: 0.9871 - val_loss: 0.0574 - learning_rate: 0.0010\n",
      "Epoch 20/100\n",
      "\u001b[1m272/272\u001b[0m \u001b[32m━━━━━━━━━━━━━━━━━━━━\u001b[0m\u001b[37m\u001b[0m \u001b[1m0s\u001b[0m 277ms/step - accuracy: 0.9812 - loss: 0.0567\n",
      "Epoch 20: val_loss improved from 0.05743 to 0.04480, saving model to checkpoint-combined_model.keras\n",
      "\u001b[1m272/272\u001b[0m \u001b[32m━━━━━━━━━━━━━━━━━━━━\u001b[0m\u001b[37m\u001b[0m \u001b[1m119s\u001b[0m 433ms/step - accuracy: 0.9812 - loss: 0.0567 - val_accuracy: 0.9871 - val_loss: 0.0448 - learning_rate: 0.0010\n",
      "Epoch 21/100\n",
      "\u001b[1m272/272\u001b[0m \u001b[32m━━━━━━━━━━━━━━━━━━━━\u001b[0m\u001b[37m\u001b[0m \u001b[1m0s\u001b[0m 283ms/step - accuracy: 0.9857 - loss: 0.0531\n",
      "Epoch 21: val_loss did not improve from 0.04480\n",
      "\u001b[1m272/272\u001b[0m \u001b[32m━━━━━━━━━━━━━━━━━━━━\u001b[0m\u001b[37m\u001b[0m \u001b[1m103s\u001b[0m 373ms/step - accuracy: 0.9857 - loss: 0.0532 - val_accuracy: 0.9850 - val_loss: 0.0529 - learning_rate: 0.0010\n",
      "Epoch 22/100\n",
      "\u001b[1m272/272\u001b[0m \u001b[32m━━━━━━━━━━━━━━━━━━━━\u001b[0m\u001b[37m\u001b[0m \u001b[1m0s\u001b[0m 274ms/step - accuracy: 0.9801 - loss: 0.0913\n",
      "Epoch 22: val_loss did not improve from 0.04480\n",
      "\u001b[1m272/272\u001b[0m \u001b[32m━━━━━━━━━━━━━━━━━━━━\u001b[0m\u001b[37m\u001b[0m \u001b[1m100s\u001b[0m 363ms/step - accuracy: 0.9801 - loss: 0.0915 - val_accuracy: 0.9485 - val_loss: 0.1670 - learning_rate: 0.0010\n",
      "Epoch 23/100\n",
      "\u001b[1m272/272\u001b[0m \u001b[32m━━━━━━━━━━━━━━━━━━━━\u001b[0m\u001b[37m\u001b[0m \u001b[1m0s\u001b[0m 276ms/step - accuracy: 0.9744 - loss: 0.0764\n",
      "Epoch 23: val_loss did not improve from 0.04480\n",
      "\u001b[1m272/272\u001b[0m \u001b[32m━━━━━━━━━━━━━━━━━━━━\u001b[0m\u001b[37m\u001b[0m \u001b[1m142s\u001b[0m 365ms/step - accuracy: 0.9744 - loss: 0.0764 - val_accuracy: 0.9862 - val_loss: 0.0499 - learning_rate: 0.0010\n",
      "Epoch 24/100\n",
      "\u001b[1m272/272\u001b[0m \u001b[32m━━━━━━━━━━━━━━━━━━━━\u001b[0m\u001b[37m\u001b[0m \u001b[1m0s\u001b[0m 278ms/step - accuracy: 0.9802 - loss: 0.0669\n",
      "Epoch 24: val_loss did not improve from 0.04480\n",
      "\u001b[1m272/272\u001b[0m \u001b[32m━━━━━━━━━━━━━━━━━━━━\u001b[0m\u001b[37m\u001b[0m \u001b[1m102s\u001b[0m 368ms/step - accuracy: 0.9802 - loss: 0.0669 - val_accuracy: 0.9822 - val_loss: 0.0767 - learning_rate: 0.0010\n",
      "Epoch 25/100\n",
      "\u001b[1m272/272\u001b[0m \u001b[32m━━━━━━━━━━━━━━━━━━━━\u001b[0m\u001b[37m\u001b[0m \u001b[1m0s\u001b[0m 278ms/step - accuracy: 0.9862 - loss: 0.0437\n",
      "Epoch 25: val_loss did not improve from 0.04480\n",
      "\n",
      "Epoch 25: ReduceLROnPlateau reducing learning rate to 0.0005000000237487257.\n",
      "\u001b[1m272/272\u001b[0m \u001b[32m━━━━━━━━━━━━━━━━━━━━\u001b[0m\u001b[37m\u001b[0m \u001b[1m142s\u001b[0m 369ms/step - accuracy: 0.9862 - loss: 0.0438 - val_accuracy: 0.9905 - val_loss: 0.0448 - learning_rate: 0.0010\n"
     ]
    }
   ],
   "source": [
    "with tf.device('/device:GPU:0'):\n",
    "  history = model.fit(\n",
    "      train,\n",
    "      epochs=100,\n",
    "      validation_data=val,\n",
    "      class_weight=class_weights_dict,\n",
    "      callbacks=callbacks)"
   ]
  },
  {
   "cell_type": "code",
   "execution_count": null,
   "metadata": {
    "id": "2YU5LvBJ5qjy"
   },
   "outputs": [],
   "source": [
    "import matplotlib.pyplot as plt\n",
    "\n",
    "def plot_training_history(history):\n",
    "    acc = history.history['accuracy']\n",
    "    val_acc = history.history['val_accuracy']\n",
    "    loss = history.history['loss']\n",
    "    val_loss = history.history['val_loss']\n",
    "\n",
    "    epochs = range(1, len(acc) + 1)\n",
    "\n",
    "    plt.figure(figsize=(14, 5))\n",
    "\n",
    "    # Plot accuracy\n",
    "    plt.subplot(1, 2, 1)\n",
    "    plt.plot(epochs, acc, 'b', label='Training accuracy')\n",
    "    plt.plot(epochs, val_acc, 'r', label='Validation accuracy')\n",
    "    plt.title('Training and Validation Accuracy')\n",
    "    plt.xlabel('Epochs')\n",
    "    plt.ylabel('Accuracy')\n",
    "    plt.legend()\n",
    "\n",
    "    # Plot loss\n",
    "    plt.subplot(1, 2, 2)\n",
    "    plt.plot(epochs, loss, 'b', label='Training loss')\n",
    "    plt.plot(epochs, val_loss, 'r', label='Validation loss')\n",
    "    plt.title('Training and Validation Loss')\n",
    "    plt.xlabel('Epochs')\n",
    "    plt.ylabel('Loss')\n",
    "    plt.legend()\n",
    "    plt.show()"
   ]
  },
  {
   "cell_type": "code",
   "execution_count": null,
   "metadata": {
    "colab": {
     "base_uri": "https://localhost:8080/",
     "height": 459
    },
    "executionInfo": {
     "elapsed": 891,
     "status": "ok",
     "timestamp": 1737438635934,
     "user": {
      "displayName": "Mauliana",
      "userId": "04631804011909403256"
     },
     "user_tz": -420
    },
    "id": "SvxyYvrtVeCm",
    "outputId": "70b46e38-3675-499d-938a-776450a9cef3"
   },
   "outputs": [
    {
     "data": {
      "image/png": "[encoded data removed]",
      "text/plain": [
       "<Figure size 1400x500 with 2 Axes>"
      ]
     },
     "metadata": {},
     "output_type": "display_data"
    }
   ],
   "source": [
    "# Plot the training history\n",
    "plot_training_history(history)"
   ]
  },
  {
   "cell_type": "code",
   "execution_count": null,
   "metadata": {
    "colab": {
     "base_uri": "https://localhost:8080/"
    },
    "executionInfo": {
     "elapsed": 21661,
     "status": "ok",
     "timestamp": 1737438664227,
     "user": {
      "displayName": "Mauliana",
      "userId": "04631804011909403256"
     },
     "user_tz": -420
    },
    "id": "SEuOPZo4Ofzf",
    "outputId": "09dc9ef9-973f-4600-9537-bcf962bd9f5e"
   },
   "outputs": [
    {
     "name": "stdout",
     "output_type": "stream",
     "text": [
      "\u001b[1m68/68\u001b[0m \u001b[32m━━━━━━━━━━━━━━━━━━━━\u001b[0m\u001b[37m\u001b[0m \u001b[1m16s\u001b[0m 225ms/step - accuracy: 0.9861 - loss: 0.0671\n"
     ]
    },
    {
     "data": {
      "text/plain": [
       "[0.05276954919099808, 0.9857470989227295]"
      ]
     },
     "execution_count": 20,
     "metadata": {},
     "output_type": "execute_result"
    }
   ],
   "source": [
    "model.evaluate(test, verbose=1)"
   ]
  },
  {
   "cell_type": "code",
   "execution_count": null,
   "metadata": {
    "colab": {
     "base_uri": "https://localhost:8080/"
    },
    "executionInfo": {
     "elapsed": 322,
     "status": "ok",
     "timestamp": 1737438664547,
     "user": {
      "displayName": "Mauliana",
      "userId": "04631804011909403256"
     },
     "user_tz": -420
    },
    "id": "Mnva3xFdV4q5",
    "outputId": "d1f6bf35-5e7e-4010-ca18-fa7cebde4738"
   },
   "outputs": [
    {
     "name": "stderr",
     "output_type": "stream",
     "text": [
      "WARNING:absl:You are saving your model as an HDF5 file via `model.save()` or `keras.saving.save_model(model)`. This file format is considered legacy. We recommend using instead the native Keras format, e.g. `model.save('my_model.keras')` or `keras.saving.save_model(model, 'my_model.keras')`. \n"
     ]
    }
   ],
   "source": [
    "model.save('x-ray_cnn_model-v2.h5')"
   ]
  },
  {
   "cell_type": "code",
   "execution_count": null,
   "metadata": {
    "colab": {
     "base_uri": "https://localhost:8080/"
    },
    "executionInfo": {
     "elapsed": 18116,
     "status": "ok",
     "timestamp": 1737438684099,
     "user": {
      "displayName": "Mauliana",
      "userId": "04631804011909403256"
     },
     "user_tz": -420
    },
    "id": "rbpfEYqwVoD0",
    "outputId": "2bc809e6-1b72-4856-9742-94676d2b3542"
   },
   "outputs": [
    {
     "name": "stdout",
     "output_type": "stream",
     "text": [
      "\u001b[1m68/68\u001b[0m \u001b[32m━━━━━━━━━━━━━━━━━━━━\u001b[0m\u001b[37m\u001b[0m \u001b[1m17s\u001b[0m 200ms/step\n",
      "              precision    recall  f1-score   support\n",
      "\n",
      "      normal       0.97      0.99      0.98       695\n",
      "   pneumonia       1.00      1.00      1.00       776\n",
      "         tbc       0.99      0.97      0.98       704\n",
      "\n",
      "    accuracy                           0.99      2175\n",
      "   macro avg       0.99      0.99      0.99      2175\n",
      "weighted avg       0.99      0.99      0.99      2175\n",
      "\n",
      "Accuracy of the Model: 98.6%\n"
     ]
    }
   ],
   "source": [
    "import numpy as np\n",
    "from sklearn.metrics import confusion_matrix, accuracy_score\n",
    "from sklearn.metrics import classification_report\n",
    "\n",
    "# model = keras.models.load_model('x-ray_cnn_model-v2.h5')\n",
    "pred = model.predict(test)\n",
    "pred = np.argmax(pred, axis=1) #pick class with highest  probability\n",
    "\n",
    "labels = (train.class_indices)\n",
    "labels = dict((v,k) for k,v in labels.items())\n",
    "pred2 = [labels[k] for k in pred]\n",
    "\n",
    "y_test = test_set.label # set y_test to the expected output\n",
    "print(classification_report(y_test, pred2))\n",
    "print(\"Accuracy of the Model:\",\"{:.1f}%\".format(accuracy_score(y_test, pred2)*100))\n"
   ]
  },
  {
   "cell_type": "code",
   "execution_count": null,
   "metadata": {
    "colab": {
     "base_uri": "https://localhost:8080/"
    },
    "executionInfo": {
     "elapsed": 2165,
     "status": "ok",
     "timestamp": 1737439206075,
     "user": {
      "displayName": "Mauliana",
      "userId": "04631804011909403256"
     },
     "user_tz": -420
    },
    "id": "1DJHCdCvahr4",
    "outputId": "daddb76f-eeda-42ac-f116-704f1a62cd7c"
   },
   "outputs": [
    {
     "name": "stderr",
     "output_type": "stream",
     "text": [
      "WARNING:absl:Compiled the loaded model, but the compiled metrics have yet to be built. `model.compile_metrics` will be empty until you train or evaluate the model.\n"
     ]
    },
    {
     "name": "stdout",
     "output_type": "stream",
     "text": [
      "\u001b[1m1/1\u001b[0m \u001b[32m━━━━━━━━━━━━━━━━━━━━\u001b[0m\u001b[37m\u001b[0m \u001b[1m1s\u001b[0m 588ms/step\n",
      "Predicted Class: tbc\n",
      "Probability Scores: {'normal': 7.62767854212143e-07, 'pneumonia': 1.6865635624196962e-11, 'tbc': 0.9999992847442627}\n"
     ]
    }
   ],
   "source": [
    "import numpy as np\n",
    "import tensorflow as tf\n",
    "from tensorflow.keras.preprocessing import image\n",
    "\n",
    "# Load the trained model\n",
    "model = tf.keras.models.load_model('/content/x-ray_cnn_model-v2.h5')\n",
    "model.compile(\n",
    "    loss='categorical_crossentropy',\n",
    "    optimizer='adam',\n",
    "    metrics=['accuracy']\n",
    ")\n",
    "\n",
    "# Define class labels\n",
    "class_labels = ['normal', 'pneumonia', 'tbc']\n",
    "\n",
    "def predict_image(img_path):\n",
    "    \"\"\"\n",
    "    Predict the class of an input image using the trained model.\n",
    "\n",
    "    Args:\n",
    "        img_path (str): Path to the input image.\n",
    "\n",
    "    Returns:\n",
    "        dict: Predicted class with probability scores for each class.\n",
    "    \"\"\"\n",
    "    # Load and preprocess the image\n",
    "    img = image.load_img(img_path, target_size=(244, 244))  # Resize image to model's input size\n",
    "    img_array = image.img_to_array(img)  # Convert to array\n",
    "    img_array = np.expand_dims(img_array, axis=0)  # Add batch dimension\n",
    "    img_array = tf.keras.applications.mobilenet_v2.preprocess_input(img_array)  # Preprocess as in training\n",
    "\n",
    "    # Perform prediction\n",
    "    predictions = model.predict(img_array)\n",
    "    predicted_class = class_labels[np.argmax(predictions)]  # Get class with highest probability\n",
    "    predicted_probs = {class_labels[i]: float(predictions[0][i]) for i in range(len(class_labels))}\n",
    "\n",
    "    return {\n",
    "        \"Predicted Class\": predicted_class,\n",
    "        \"Probability Scores\": predicted_probs\n",
    "    }\n",
    "\n",
    "# Test the function\n",
    "img_path = '/content/pneumonia+efusi-pleura.jpg'\n",
    "result = predict_image(img_path)\n",
    "\n",
    "print(\"Predicted Class:\", result[\"Predicted Class\"])\n",
    "print(\"Probability Scores:\", result[\"Probability Scores\"])\n"
   ]
  },
  {
   "cell_type": "markdown",
   "metadata": {
    "id": "XYrrp6Y2c3Ov"
   },
   "source": [
    "### VGG"
   ]
  },
  {
   "cell_type": "code",
   "execution_count": null,
   "metadata": {
    "colab": {
     "base_uri": "https://localhost:8080/"
    },
    "executionInfo": {
     "elapsed": 2043,
     "status": "ok",
     "timestamp": 1737439416642,
     "user": {
      "displayName": "Mauliana",
      "userId": "04631804011909403256"
     },
     "user_tz": -420
    },
    "id": "Cb-zs6FYbPJs",
    "outputId": "240dd5c7-032c-478c-941b-1729b392fa09"
   },
   "outputs": [
    {
     "name": "stdout",
     "output_type": "stream",
     "text": [
      "Downloading data from https://storage.googleapis.com/tensorflow/keras-applications/vgg16/vgg16_weights_tf_dim_ordering_tf_kernels_notop.h5\n",
      "\u001b[1m58889256/58889256\u001b[0m \u001b[32m━━━━━━━━━━━━━━━━━━━━\u001b[0m\u001b[37m\u001b[0m \u001b[1m1s\u001b[0m 0us/step\n"
     ]
    }
   ],
   "source": [
    "from keras.applications import VGG16\n",
    "from keras.layers import Conv2D, MaxPool2D, Dropout, Flatten, Dense, GlobalAveragePooling2D\n",
    "from keras.models import Sequential\n",
    "\n",
    "# Load the pre-trained VGG16 model without the top classification layers\n",
    "vgg_base = VGG16(weights='imagenet', include_top=False, input_shape=(IMAGE_SIZE, IMAGE_SIZE, 3))\n",
    "\n",
    "# Freeze the VGG16 base layers (these won't be trained)\n",
    "vgg_base.trainable = False\n",
    "\n",
    "# Build the Sequential model\n",
    "model = Sequential()\n",
    "\n",
    "# Add the pre-trained VGG16 base model | extract features only\n",
    "model.add(vgg_base)\n",
    "\n",
    "# Add a pooling layer to reduce the output from the VGG model (either Flatten or GlobalAveragePooling)\n",
    "model.add(GlobalAveragePooling2D()) ## GlobalAveragePooling2D = CNN  |  Flatten\n",
    "\n",
    "# Add Dense layers on top for the new classification task\n",
    "model.add(Dense(units=128, activation='relu'))\n",
    "model.add(Dropout(0.25))\n",
    "model.add(Dense(units=64, activation='relu'))\n",
    "\n",
    "# Output layer for 3 classes (adjust the number based on your dataset)\n",
    "model.add(Dense(units=3, activation='softmax'))"
   ]
  },
  {
   "cell_type": "code",
   "execution_count": null,
   "metadata": {
    "colab": {
     "base_uri": "https://localhost:8080/"
    },
    "executionInfo": {
     "elapsed": 2616685,
     "status": "ok",
     "timestamp": 1737442083541,
     "user": {
      "displayName": "Mauliana",
      "userId": "04631804011909403256"
     },
     "user_tz": -420
    },
    "id": "ION6EDSXdYcy",
    "outputId": "2b148465-03b7-4538-dc4c-d9e0e18e2072"
   },
   "outputs": [
    {
     "name": "stdout",
     "output_type": "stream",
     "text": [
      "Epoch 1/100\n",
      "\u001b[1m272/272\u001b[0m \u001b[32m━━━━━━━━━━━━━━━━━━━━\u001b[0m\u001b[37m\u001b[0m \u001b[1m0s\u001b[0m 333ms/step - accuracy: 0.6794 - loss: 0.6751\n",
      "Epoch 1: val_loss did not improve from 0.04480\n",
      "\u001b[1m272/272\u001b[0m \u001b[32m━━━━━━━━━━━━━━━━━━━━\u001b[0m\u001b[37m\u001b[0m \u001b[1m151s\u001b[0m 483ms/step - accuracy: 0.6800 - loss: 0.6739 - val_accuracy: 0.9317 - val_loss: 0.1851 - learning_rate: 0.0010\n",
      "Epoch 2/100\n",
      "\u001b[1m272/272\u001b[0m \u001b[32m━━━━━━━━━━━━━━━━━━━━\u001b[0m\u001b[37m\u001b[0m \u001b[1m0s\u001b[0m 238ms/step - accuracy: 0.9666 - loss: 0.0957\n",
      "Epoch 2: val_loss did not improve from 0.04480\n",
      "\u001b[1m272/272\u001b[0m \u001b[32m━━━━━━━━━━━━━━━━━━━━\u001b[0m\u001b[37m\u001b[0m \u001b[1m90s\u001b[0m 325ms/step - accuracy: 0.9666 - loss: 0.0956 - val_accuracy: 0.9838 - val_loss: 0.0487 - learning_rate: 0.0010\n",
      "Epoch 3/100\n",
      "\u001b[1m272/272\u001b[0m \u001b[32m━━━━━━━━━━━━━━━━━━━━\u001b[0m\u001b[37m\u001b[0m \u001b[1m0s\u001b[0m 234ms/step - accuracy: 0.9812 - loss: 0.0557\n",
      "Epoch 3: val_loss improved from 0.04480 to 0.03779, saving model to checkpoint-combined_model.keras\n",
      "\u001b[1m272/272\u001b[0m \u001b[32m━━━━━━━━━━━━━━━━━━━━\u001b[0m\u001b[37m\u001b[0m \u001b[1m159s\u001b[0m 387ms/step - accuracy: 0.9812 - loss: 0.0557 - val_accuracy: 0.9884 - val_loss: 0.0378 - learning_rate: 0.0010\n",
      "Epoch 4/100\n",
      "\u001b[1m272/272\u001b[0m \u001b[32m━━━━━━━━━━━━━━━━━━━━\u001b[0m\u001b[37m\u001b[0m \u001b[1m0s\u001b[0m 235ms/step - accuracy: 0.9838 - loss: 0.0440\n",
      "Epoch 4: val_loss did not improve from 0.03779\n",
      "\u001b[1m272/272\u001b[0m \u001b[32m━━━━━━━━━━━━━━━━━━━━\u001b[0m\u001b[37m\u001b[0m \u001b[1m124s\u001b[0m 322ms/step - accuracy: 0.9838 - loss: 0.0441 - val_accuracy: 0.9884 - val_loss: 0.0393 - learning_rate: 0.0010\n",
      "Epoch 5/100\n",
      "\u001b[1m272/272\u001b[0m \u001b[32m━━━━━━━━━━━━━━━━━━━━\u001b[0m\u001b[37m\u001b[0m \u001b[1m0s\u001b[0m 241ms/step - accuracy: 0.9856 - loss: 0.0337\n",
      "Epoch 5: val_loss improved from 0.03779 to 0.02851, saving model to checkpoint-combined_model.keras\n",
      "\u001b[1m272/272\u001b[0m \u001b[32m━━━━━━━━━━━━━━━━━━━━\u001b[0m\u001b[37m\u001b[0m \u001b[1m91s\u001b[0m 331ms/step - accuracy: 0.9856 - loss: 0.0337 - val_accuracy: 0.9908 - val_loss: 0.0285 - learning_rate: 0.0010\n",
      "Epoch 6/100\n",
      "\u001b[1m272/272\u001b[0m \u001b[32m━━━━━━━━━━━━━━━━━━━━\u001b[0m\u001b[37m\u001b[0m \u001b[1m0s\u001b[0m 236ms/step - accuracy: 0.9888 - loss: 0.0285\n",
      "Epoch 6: val_loss did not improve from 0.02851\n",
      "\u001b[1m272/272\u001b[0m \u001b[32m━━━━━━━━━━━━━━━━━━━━\u001b[0m\u001b[37m\u001b[0m \u001b[1m89s\u001b[0m 324ms/step - accuracy: 0.9888 - loss: 0.0285 - val_accuracy: 0.9896 - val_loss: 0.0292 - learning_rate: 0.0010\n",
      "Epoch 7/100\n",
      "\u001b[1m272/272\u001b[0m \u001b[32m━━━━━━━━━━━━━━━━━━━━\u001b[0m\u001b[37m\u001b[0m \u001b[1m0s\u001b[0m 234ms/step - accuracy: 0.9897 - loss: 0.0272\n",
      "Epoch 7: val_loss did not improve from 0.02851\n",
      "\u001b[1m272/272\u001b[0m \u001b[32m━━━━━━━━━━━━━━━━━━━━\u001b[0m\u001b[37m\u001b[0m \u001b[1m142s\u001b[0m 323ms/step - accuracy: 0.9897 - loss: 0.0272 - val_accuracy: 0.9850 - val_loss: 0.0383 - learning_rate: 0.0010\n",
      "Epoch 8/100\n",
      "\u001b[1m272/272\u001b[0m \u001b[32m━━━━━━━━━━━━━━━━━━━━\u001b[0m\u001b[37m\u001b[0m \u001b[1m0s\u001b[0m 240ms/step - accuracy: 0.9931 - loss: 0.0176\n",
      "Epoch 8: val_loss improved from 0.02851 to 0.02620, saving model to checkpoint-combined_model.keras\n",
      "\u001b[1m272/272\u001b[0m \u001b[32m━━━━━━━━━━━━━━━━━━━━\u001b[0m\u001b[37m\u001b[0m \u001b[1m91s\u001b[0m 330ms/step - accuracy: 0.9930 - loss: 0.0176 - val_accuracy: 0.9902 - val_loss: 0.0262 - learning_rate: 0.0010\n",
      "Epoch 9/100\n",
      "\u001b[1m272/272\u001b[0m \u001b[32m━━━━━━━━━━━━━━━━━━━━\u001b[0m\u001b[37m\u001b[0m \u001b[1m0s\u001b[0m 236ms/step - accuracy: 0.9894 - loss: 0.0230\n",
      "Epoch 9: val_loss did not improve from 0.02620\n",
      "\u001b[1m272/272\u001b[0m \u001b[32m━━━━━━━━━━━━━━━━━━━━\u001b[0m\u001b[37m\u001b[0m \u001b[1m89s\u001b[0m 323ms/step - accuracy: 0.9894 - loss: 0.0230 - val_accuracy: 0.9877 - val_loss: 0.0300 - learning_rate: 0.0010\n",
      "Epoch 10/100\n",
      "\u001b[1m272/272\u001b[0m \u001b[32m━━━━━━━━━━━━━━━━━━━━\u001b[0m\u001b[37m\u001b[0m \u001b[1m0s\u001b[0m 241ms/step - accuracy: 0.9923 - loss: 0.0189\n",
      "Epoch 10: val_loss improved from 0.02620 to 0.01769, saving model to checkpoint-combined_model.keras\n",
      "\u001b[1m272/272\u001b[0m \u001b[32m━━━━━━━━━━━━━━━━━━━━\u001b[0m\u001b[37m\u001b[0m \u001b[1m91s\u001b[0m 331ms/step - accuracy: 0.9923 - loss: 0.0190 - val_accuracy: 0.9942 - val_loss: 0.0177 - learning_rate: 0.0010\n",
      "Epoch 11/100\n",
      "\u001b[1m272/272\u001b[0m \u001b[32m━━━━━━━━━━━━━━━━━━━━\u001b[0m\u001b[37m\u001b[0m \u001b[1m0s\u001b[0m 239ms/step - accuracy: 0.9885 - loss: 0.0272\n",
      "Epoch 11: val_loss improved from 0.01769 to 0.01521, saving model to checkpoint-combined_model.keras\n",
      "\u001b[1m272/272\u001b[0m \u001b[32m━━━━━━━━━━━━━━━━━━━━\u001b[0m\u001b[37m\u001b[0m \u001b[1m140s\u001b[0m 324ms/step - accuracy: 0.9885 - loss: 0.0272 - val_accuracy: 0.9951 - val_loss: 0.0152 - learning_rate: 0.0010\n",
      "Epoch 12/100\n",
      "\u001b[1m272/272\u001b[0m \u001b[32m━━━━━━━━━━━━━━━━━━━━\u001b[0m\u001b[37m\u001b[0m \u001b[1m0s\u001b[0m 238ms/step - accuracy: 0.9945 - loss: 0.0163\n",
      "Epoch 12: val_loss improved from 0.01521 to 0.01449, saving model to checkpoint-combined_model.keras\n",
      "\u001b[1m272/272\u001b[0m \u001b[32m━━━━━━━━━━━━━━━━━━━━\u001b[0m\u001b[37m\u001b[0m \u001b[1m91s\u001b[0m 328ms/step - accuracy: 0.9945 - loss: 0.0163 - val_accuracy: 0.9951 - val_loss: 0.0145 - learning_rate: 0.0010\n",
      "Epoch 13/100\n",
      "\u001b[1m272/272\u001b[0m \u001b[32m━━━━━━━━━━━━━━━━━━━━\u001b[0m\u001b[37m\u001b[0m \u001b[1m0s\u001b[0m 238ms/step - accuracy: 0.9931 - loss: 0.0169\n",
      "Epoch 13: val_loss did not improve from 0.01449\n",
      "\u001b[1m272/272\u001b[0m \u001b[32m━━━━━━━━━━━━━━━━━━━━\u001b[0m\u001b[37m\u001b[0m \u001b[1m141s\u001b[0m 327ms/step - accuracy: 0.9931 - loss: 0.0169 - val_accuracy: 0.9899 - val_loss: 0.0212 - learning_rate: 0.0010\n",
      "Epoch 14/100\n",
      "\u001b[1m272/272\u001b[0m \u001b[32m━━━━━━━━━━━━━━━━━━━━\u001b[0m\u001b[37m\u001b[0m \u001b[1m0s\u001b[0m 236ms/step - accuracy: 0.9938 - loss: 0.0170\n",
      "Epoch 14: val_loss improved from 0.01449 to 0.01130, saving model to checkpoint-combined_model.keras\n",
      "\u001b[1m272/272\u001b[0m \u001b[32m━━━━━━━━━━━━━━━━━━━━\u001b[0m\u001b[37m\u001b[0m \u001b[1m90s\u001b[0m 326ms/step - accuracy: 0.9938 - loss: 0.0170 - val_accuracy: 0.9948 - val_loss: 0.0113 - learning_rate: 0.0010\n",
      "Epoch 15/100\n",
      "\u001b[1m272/272\u001b[0m \u001b[32m━━━━━━━━━━━━━━━━━━━━\u001b[0m\u001b[37m\u001b[0m \u001b[1m0s\u001b[0m 238ms/step - accuracy: 0.9893 - loss: 0.0274\n",
      "Epoch 15: val_loss did not improve from 0.01130\n",
      "\u001b[1m272/272\u001b[0m \u001b[32m━━━━━━━━━━━━━━━━━━━━\u001b[0m\u001b[37m\u001b[0m \u001b[1m90s\u001b[0m 327ms/step - accuracy: 0.9893 - loss: 0.0274 - val_accuracy: 0.9945 - val_loss: 0.0150 - learning_rate: 0.0010\n",
      "Epoch 16/100\n",
      "\u001b[1m272/272\u001b[0m \u001b[32m━━━━━━━━━━━━━━━━━━━━\u001b[0m\u001b[37m\u001b[0m \u001b[1m0s\u001b[0m 241ms/step - accuracy: 0.9949 - loss: 0.0128\n",
      "Epoch 16: val_loss did not improve from 0.01130\n",
      "\u001b[1m272/272\u001b[0m \u001b[32m━━━━━━━━━━━━━━━━━━━━\u001b[0m\u001b[37m\u001b[0m \u001b[1m160s\u001b[0m 393ms/step - accuracy: 0.9949 - loss: 0.0128 - val_accuracy: 0.9942 - val_loss: 0.0183 - learning_rate: 0.0010\n",
      "Epoch 17/100\n",
      "\u001b[1m272/272\u001b[0m \u001b[32m━━━━━━━━━━━━━━━━━━━━\u001b[0m\u001b[37m\u001b[0m \u001b[1m0s\u001b[0m 236ms/step - accuracy: 0.9962 - loss: 0.0118\n",
      "Epoch 17: val_loss did not improve from 0.01130\n",
      "\u001b[1m272/272\u001b[0m \u001b[32m━━━━━━━━━━━━━━━━━━━━\u001b[0m\u001b[37m\u001b[0m \u001b[1m123s\u001b[0m 324ms/step - accuracy: 0.9962 - loss: 0.0118 - val_accuracy: 0.9914 - val_loss: 0.0214 - learning_rate: 0.0010\n",
      "Epoch 18/100\n",
      "\u001b[1m272/272\u001b[0m \u001b[32m━━━━━━━━━━━━━━━━━━━━\u001b[0m\u001b[37m\u001b[0m \u001b[1m0s\u001b[0m 240ms/step - accuracy: 0.9933 - loss: 0.0204\n",
      "Epoch 18: val_loss improved from 0.01130 to 0.00958, saving model to checkpoint-combined_model.keras\n",
      "\u001b[1m272/272\u001b[0m \u001b[32m━━━━━━━━━━━━━━━━━━━━\u001b[0m\u001b[37m\u001b[0m \u001b[1m144s\u001b[0m 330ms/step - accuracy: 0.9933 - loss: 0.0204 - val_accuracy: 0.9963 - val_loss: 0.0096 - learning_rate: 0.0010\n",
      "Epoch 19/100\n",
      "\u001b[1m272/272\u001b[0m \u001b[32m━━━━━━━━━━━━━━━━━━━━\u001b[0m\u001b[37m\u001b[0m \u001b[1m0s\u001b[0m 240ms/step - accuracy: 0.9964 - loss: 0.0078\n",
      "Epoch 19: val_loss did not improve from 0.00958\n",
      "\u001b[1m272/272\u001b[0m \u001b[32m━━━━━━━━━━━━━━━━━━━━\u001b[0m\u001b[37m\u001b[0m \u001b[1m107s\u001b[0m 391ms/step - accuracy: 0.9964 - loss: 0.0078 - val_accuracy: 0.9966 - val_loss: 0.0116 - learning_rate: 0.0010\n",
      "Epoch 20/100\n",
      "\u001b[1m272/272\u001b[0m \u001b[32m━━━━━━━━━━━━━━━━━━━━\u001b[0m\u001b[37m\u001b[0m \u001b[1m0s\u001b[0m 240ms/step - accuracy: 0.9940 - loss: 0.0136\n",
      "Epoch 20: val_loss did not improve from 0.00958\n",
      "\u001b[1m272/272\u001b[0m \u001b[32m━━━━━━━━━━━━━━━━━━━━\u001b[0m\u001b[37m\u001b[0m \u001b[1m90s\u001b[0m 325ms/step - accuracy: 0.9940 - loss: 0.0136 - val_accuracy: 0.9957 - val_loss: 0.0104 - learning_rate: 0.0010\n",
      "Epoch 21/100\n",
      "\u001b[1m272/272\u001b[0m \u001b[32m━━━━━━━━━━━━━━━━━━━━\u001b[0m\u001b[37m\u001b[0m \u001b[1m0s\u001b[0m 237ms/step - accuracy: 0.9967 - loss: 0.0084\n",
      "Epoch 21: val_loss did not improve from 0.00958\n",
      "\u001b[1m272/272\u001b[0m \u001b[32m━━━━━━━━━━━━━━━━━━━━\u001b[0m\u001b[37m\u001b[0m \u001b[1m91s\u001b[0m 326ms/step - accuracy: 0.9967 - loss: 0.0084 - val_accuracy: 0.9957 - val_loss: 0.0116 - learning_rate: 0.0010\n",
      "Epoch 22/100\n",
      "\u001b[1m272/272\u001b[0m \u001b[32m━━━━━━━━━━━━━━━━━━━━\u001b[0m\u001b[37m\u001b[0m \u001b[1m0s\u001b[0m 241ms/step - accuracy: 0.9891 - loss: 0.0213\n",
      "Epoch 22: val_loss did not improve from 0.00958\n",
      "\u001b[1m272/272\u001b[0m \u001b[32m━━━━━━━━━━━━━━━━━━━━\u001b[0m\u001b[37m\u001b[0m \u001b[1m142s\u001b[0m 329ms/step - accuracy: 0.9891 - loss: 0.0213 - val_accuracy: 0.9923 - val_loss: 0.0167 - learning_rate: 0.0010\n",
      "Epoch 23/100\n",
      "\u001b[1m272/272\u001b[0m \u001b[32m━━━━━━━━━━━━━━━━━━━━\u001b[0m\u001b[37m\u001b[0m \u001b[1m0s\u001b[0m 237ms/step - accuracy: 0.9922 - loss: 0.0168\n",
      "Epoch 23: val_loss did not improve from 0.00958\n",
      "\n",
      "Epoch 23: ReduceLROnPlateau reducing learning rate to 0.0005000000237487257.\n",
      "\u001b[1m272/272\u001b[0m \u001b[32m━━━━━━━━━━━━━━━━━━━━\u001b[0m\u001b[37m\u001b[0m \u001b[1m89s\u001b[0m 323ms/step - accuracy: 0.9922 - loss: 0.0168 - val_accuracy: 0.9776 - val_loss: 0.0648 - learning_rate: 0.0010\n"
     ]
    }
   ],
   "source": [
    "# Compile the model\n",
    "model.compile(optimizer='adam', loss='categorical_crossentropy', metrics=['accuracy'])\n",
    "\n",
    "# Train the model\n",
    "history = model.fit(\n",
    "    x=train,\n",
    "    epochs=100,\n",
    "    validation_data=val,\n",
    "    class_weight=class_weights_dict,\n",
    "    callbacks = callbacks\n",
    ")"
   ]
  },
  {
   "cell_type": "code",
   "execution_count": null,
   "metadata": {
    "colab": {
     "base_uri": "https://localhost:8080/",
     "height": 456
    },
    "executionInfo": {
     "elapsed": 877,
     "status": "ok",
     "timestamp": 1737442091341,
     "user": {
      "displayName": "Mauliana",
      "userId": "04631804011909403256"
     },
     "user_tz": -420
    },
    "id": "Q5ygAVaBdlNM",
    "outputId": "36b20def-2008-4720-9d31-397550d4eaaa"
   },
   "outputs": [
    {
     "data": {
      "image/png": "[encoded data removed]",
      "text/plain": [
       "<Figure size 1400x500 with 2 Axes>"
      ]
     },
     "metadata": {},
     "output_type": "display_data"
    }
   ],
   "source": [
    "# Plot the training history\n",
    "plot_training_history(history)"
   ]
  },
  {
   "cell_type": "code",
   "execution_count": null,
   "metadata": {
    "colab": {
     "base_uri": "https://localhost:8080/"
    },
    "executionInfo": {
     "elapsed": 21370,
     "status": "ok",
     "timestamp": 1737442115313,
     "user": {
      "displayName": "Mauliana",
      "userId": "04631804011909403256"
     },
     "user_tz": -420
    },
    "id": "1KcmoI9zkcwN",
    "outputId": "fe595680-e952-4ba6-b593-cda73eed62ad"
   },
   "outputs": [
    {
     "name": "stdout",
     "output_type": "stream",
     "text": [
      "\u001b[1m68/68\u001b[0m \u001b[32m━━━━━━━━━━━━━━━━━━━━\u001b[0m\u001b[37m\u001b[0m \u001b[1m17s\u001b[0m 246ms/step - accuracy: 0.9939 - loss: 0.0124\n"
     ]
    },
    {
     "data": {
      "text/plain": [
       "[0.010912599973380566, 0.9954022765159607]"
      ]
     },
     "execution_count": 31,
     "metadata": {},
     "output_type": "execute_result"
    }
   ],
   "source": [
    "model.evaluate(test, verbose=1)"
   ]
  },
  {
   "cell_type": "code",
   "execution_count": null,
   "metadata": {
    "colab": {
     "base_uri": "https://localhost:8080/"
    },
    "executionInfo": {
     "elapsed": 299,
     "status": "ok",
     "timestamp": 1737442123058,
     "user": {
      "displayName": "Mauliana",
      "userId": "04631804011909403256"
     },
     "user_tz": -420
    },
    "id": "w2BVRFEWnmly",
    "outputId": "288a06bd-fc28-4980-a3e0-c6b4ccdf25a8"
   },
   "outputs": [
    {
     "name": "stderr",
     "output_type": "stream",
     "text": [
      "WARNING:absl:You are saving your model as an HDF5 file via `model.save()` or `keras.saving.save_model(model)`. This file format is considered legacy. We recommend using instead the native Keras format, e.g. `model.save('my_model.keras')` or `keras.saving.save_model(model, 'my_model.keras')`. \n"
     ]
    }
   ],
   "source": [
    "model.save('x-ray_vgg_model.h5')"
   ]
  },
  {
   "cell_type": "code",
   "execution_count": null,
   "metadata": {
    "colab": {
     "base_uri": "https://localhost:8080/"
    },
    "executionInfo": {
     "elapsed": 15947,
     "status": "ok",
     "timestamp": 1737442158373,
     "user": {
      "displayName": "Mauliana",
      "userId": "04631804011909403256"
     },
     "user_tz": -420
    },
    "id": "Y7zycjOJntoK",
    "outputId": "b70cdfe7-6824-486a-9e26-9c15cccb1dd2"
   },
   "outputs": [
    {
     "name": "stdout",
     "output_type": "stream",
     "text": [
      "\u001b[1m68/68\u001b[0m \u001b[32m━━━━━━━━━━━━━━━━━━━━\u001b[0m\u001b[37m\u001b[0m \u001b[1m15s\u001b[0m 207ms/step\n",
      "              precision    recall  f1-score   support\n",
      "\n",
      "      normal       0.99      0.99      0.99       695\n",
      "   pneumonia       1.00      1.00      1.00       776\n",
      "         tbc       0.99      0.99      0.99       704\n",
      "\n",
      "    accuracy                           1.00      2175\n",
      "   macro avg       1.00      1.00      1.00      2175\n",
      "weighted avg       1.00      1.00      1.00      2175\n",
      "\n",
      "Accuracy of the Model: 99.5%\n"
     ]
    }
   ],
   "source": [
    "import numpy as np\n",
    "from sklearn.metrics import confusion_matrix, accuracy_score\n",
    "from sklearn.metrics import classification_report\n",
    "\n",
    "pred = model.predict(test)\n",
    "pred = np.argmax(pred, axis=1) #pick class with highest  probability\n",
    "\n",
    "labels = (train.class_indices)\n",
    "labels = dict((v,k) for k,v in labels.items())\n",
    "pred2 = [labels[k] for k in pred]\n",
    "\n",
    "y_test = test_set.label # set y_test to the expected output\n",
    "print(classification_report(y_test, pred2))\n",
    "print(\"Accuracy of the Model:\",\"{:.1f}%\".format(accuracy_score(y_test, pred2)*100))\n"
   ]
  },
  {
   "cell_type": "code",
   "execution_count": null,
   "metadata": {
    "colab": {
     "base_uri": "https://localhost:8080/"
    },
    "executionInfo": {
     "elapsed": 1664,
     "status": "ok",
     "timestamp": 1737442548854,
     "user": {
      "displayName": "Mauliana",
      "userId": "04631804011909403256"
     },
     "user_tz": -420
    },
    "id": "nmbfv-3ZnybX",
    "outputId": "e94c191f-af86-436a-f705-bbb2280b78b1"
   },
   "outputs": [
    {
     "name": "stderr",
     "output_type": "stream",
     "text": [
      "WARNING:absl:Compiled the loaded model, but the compiled metrics have yet to be built. `model.compile_metrics` will be empty until you train or evaluate the model.\n"
     ]
    },
    {
     "name": "stdout",
     "output_type": "stream",
     "text": [
      "\u001b[1m1/1\u001b[0m \u001b[32m━━━━━━━━━━━━━━━━━━━━\u001b[0m\u001b[37m\u001b[0m \u001b[1m1s\u001b[0m 959ms/step\n",
      "Predicted label: pneumonia\n",
      "Confidence scores for all classes:\n",
      "normal: 0.0000\n",
      "pneumonia: 1.0000\n",
      "tbc: 0.0000\n"
     ]
    }
   ],
   "source": [
    "import numpy as np\n",
    "from tensorflow.keras.preprocessing.image import load_img, img_to_array\n",
    "from tensorflow.keras.models import load_model\n",
    "\n",
    "# Constants\n",
    "IMAGE_SIZE = 244  # Same as used during training\n",
    "MODEL_PATH = '/content/x-ray_vgg_model.h5'  # Replace with the actual path to the trained model\n",
    "CLASS_NAMES = ['normal', 'pneumonia', 'tbc']  # Class labels in the same order as the model was trained\n",
    "\n",
    "# Load the trained model\n",
    "model = load_model(MODEL_PATH)\n",
    "\n",
    "# Preprocessing function for inference\n",
    "def preprocess_image(image_path):\n",
    "    \"\"\"\n",
    "    Preprocess a single image for prediction.\n",
    "    Args:\n",
    "        image_path (str): Path to the image file.\n",
    "    Returns:\n",
    "        numpy.ndarray: Preprocessed image ready for prediction.\n",
    "    \"\"\"\n",
    "    # Load and resize the image\n",
    "    img = load_img(image_path, target_size=(IMAGE_SIZE, IMAGE_SIZE))\n",
    "    img_array = img_to_array(img)  # Convert image to array\n",
    "    img_array = tf.keras.applications.mobilenet_v2.preprocess_input(img_array)  # Use the same preprocessing function\n",
    "    img_array = np.expand_dims(img_array, axis=0)  # Add batch dimension\n",
    "    return img_array\n",
    "\n",
    "# Prediction function\n",
    "def predict_image(image_path):\n",
    "    \"\"\"\n",
    "    Predict the class of an image and provide confidence scores for all classes.\n",
    "    Args:\n",
    "        image_path (str): Path to the image file.\n",
    "    Returns:\n",
    "        tuple: Predicted class label and a dictionary of confidence scores for all classes.\n",
    "    \"\"\"\n",
    "    # Preprocess the image\n",
    "    preprocessed_image = preprocess_image(image_path)\n",
    "\n",
    "    # Perform prediction\n",
    "    predictions = model.predict(preprocessed_image)[0]  # Extract the single prediction from the batch\n",
    "\n",
    "    # Get the predicted class index and label\n",
    "    predicted_class_idx = np.argmax(predictions)\n",
    "    predicted_class_label = CLASS_NAMES[predicted_class_idx]\n",
    "\n",
    "    # Create a dictionary of class labels and their confidence scores\n",
    "    confidence_scores = {CLASS_NAMES[i]: predictions[i] for i in range(len(CLASS_NAMES))}\n",
    "\n",
    "    return predicted_class_label, confidence_scores\n",
    "\n",
    "# Example usage\n",
    "image_path = '/content/chest_xray/test/PNEUMONIA/person139_bacteria_665.jpeg'  # Replace with the actual path to an image\n",
    "predicted_label, confidence_scores = predict_image(image_path)\n",
    "\n",
    "# Display results\n",
    "print(f\"Predicted label: {predicted_label}\")\n",
    "print(\"Confidence scores for all classes:\")\n",
    "for class_name, score in confidence_scores.items():\n",
    "    print(f\"{class_name}: {score:.4f}\")\n"
   ]
  },
  {
   "cell_type": "markdown",
   "metadata": {
    "id": "NA5uSBXx17Ld"
   },
   "source": [
    "### MobileNetV2"
   ]
  },
  {
   "cell_type": "code",
   "execution_count": null,
   "metadata": {
    "colab": {
     "base_uri": "https://localhost:8080/",
     "height": 488
    },
    "executionInfo": {
     "elapsed": 5230,
     "status": "ok",
     "timestamp": 1737445880045,
     "user": {
      "displayName": "Mauliana",
      "userId": "04631804011909403256"
     },
     "user_tz": -420
    },
    "id": "c7drwiRf1NKm",
    "outputId": "c8c79559-ff6a-464f-9e39-f43d95db74ce"
   },
   "outputs": [
    {
     "name": "stderr",
     "output_type": "stream",
     "text": [
      "<ipython-input-17-0301b6b6ac2f>:5: UserWarning: `input_shape` is undefined or non-square, or `rows` is not in [96, 128, 160, 192, 224]. Weights for input shape (224, 224) will be loaded as the default.\n",
      "  base_model = MobileNetV2(include_top=False, input_tensor=Input(shape=(IMAGE_SIZE, IMAGE_SIZE, 3)))\n"
     ]
    },
    {
     "name": "stdout",
     "output_type": "stream",
     "text": [
      "Downloading data from https://storage.googleapis.com/tensorflow/keras-applications/mobilenet_v2/mobilenet_v2_weights_tf_dim_ordering_tf_kernels_1.0_224_no_top.h5\n",
      "\u001b[1m9406464/9406464\u001b[0m \u001b[32m━━━━━━━━━━━━━━━━━━━━\u001b[0m\u001b[37m\u001b[0m \u001b[1m2s\u001b[0m 0us/step\n"
     ]
    },
    {
     "data": {
      "text/html": [
       "<pre style=\"white-space:pre;overflow-x:auto;line-height:normal;font-family:Menlo,'DejaVu Sans Mono',consolas,'Courier New',monospace\"><span style=\"font-weight: bold\">Model: \"sequential\"</span>\n",
       "</pre>\n"
      ],
      "text/plain": [
       "\u001b[1mModel: \"sequential\"\u001b[0m\n"
      ]
     },
     "metadata": {},
     "output_type": "display_data"
    },
    {
     "data": {
      "text/html": [
       "<pre style=\"white-space:pre;overflow-x:auto;line-height:normal;font-family:Menlo,'DejaVu Sans Mono',consolas,'Courier New',monospace\">┏━━━━━━━━━━━━━━━━━━━━━━━━━━━━━━━━━━━━━━┳━━━━━━━━━━━━━━━━━━━━━━━━━━━━━┳━━━━━━━━━━━━━━━━━┓\n",
       "┃<span style=\"font-weight: bold\"> Layer (type)                         </span>┃<span style=\"font-weight: bold\"> Output Shape                </span>┃<span style=\"font-weight: bold\">         Param # </span>┃\n",
       "┡━━━━━━━━━━━━━━━━━━━━━━━━━━━━━━━━━━━━━━╇━━━━━━━━━━━━━━━━━━━━━━━━━━━━━╇━━━━━━━━━━━━━━━━━┩\n",
       "│ mobilenetv2_1.00_224 (<span style=\"color: #0087ff; text-decoration-color: #0087ff\">Functional</span>)    │ (<span style=\"color: #00d7ff; text-decoration-color: #00d7ff\">None</span>, <span style=\"color: #00af00; text-decoration-color: #00af00\">7</span>, <span style=\"color: #00af00; text-decoration-color: #00af00\">7</span>, <span style=\"color: #00af00; text-decoration-color: #00af00\">1280</span>)          │       <span style=\"color: #00af00; text-decoration-color: #00af00\">2,257,984</span> │\n",
       "├──────────────────────────────────────┼─────────────────────────────┼─────────────────┤\n",
       "│ average_pooling2d (<span style=\"color: #0087ff; text-decoration-color: #0087ff\">AveragePooling2D</span>) │ (<span style=\"color: #00d7ff; text-decoration-color: #00d7ff\">None</span>, <span style=\"color: #00af00; text-decoration-color: #00af00\">3</span>, <span style=\"color: #00af00; text-decoration-color: #00af00\">3</span>, <span style=\"color: #00af00; text-decoration-color: #00af00\">1280</span>)          │               <span style=\"color: #00af00; text-decoration-color: #00af00\">0</span> │\n",
       "├──────────────────────────────────────┼─────────────────────────────┼─────────────────┤\n",
       "│ flatten (<span style=\"color: #0087ff; text-decoration-color: #0087ff\">Flatten</span>)                    │ (<span style=\"color: #00d7ff; text-decoration-color: #00d7ff\">None</span>, <span style=\"color: #00af00; text-decoration-color: #00af00\">11520</span>)               │               <span style=\"color: #00af00; text-decoration-color: #00af00\">0</span> │\n",
       "├──────────────────────────────────────┼─────────────────────────────┼─────────────────┤\n",
       "│ dense (<span style=\"color: #0087ff; text-decoration-color: #0087ff\">Dense</span>)                        │ (<span style=\"color: #00d7ff; text-decoration-color: #00d7ff\">None</span>, <span style=\"color: #00af00; text-decoration-color: #00af00\">512</span>)                 │       <span style=\"color: #00af00; text-decoration-color: #00af00\">5,898,752</span> │\n",
       "├──────────────────────────────────────┼─────────────────────────────┼─────────────────┤\n",
       "│ dropout (<span style=\"color: #0087ff; text-decoration-color: #0087ff\">Dropout</span>)                    │ (<span style=\"color: #00d7ff; text-decoration-color: #00d7ff\">None</span>, <span style=\"color: #00af00; text-decoration-color: #00af00\">512</span>)                 │               <span style=\"color: #00af00; text-decoration-color: #00af00\">0</span> │\n",
       "├──────────────────────────────────────┼─────────────────────────────┼─────────────────┤\n",
       "│ dense_1 (<span style=\"color: #0087ff; text-decoration-color: #0087ff\">Dense</span>)                      │ (<span style=\"color: #00d7ff; text-decoration-color: #00d7ff\">None</span>, <span style=\"color: #00af00; text-decoration-color: #00af00\">50</span>)                  │          <span style=\"color: #00af00; text-decoration-color: #00af00\">25,650</span> │\n",
       "├──────────────────────────────────────┼─────────────────────────────┼─────────────────┤\n",
       "│ dropout_1 (<span style=\"color: #0087ff; text-decoration-color: #0087ff\">Dropout</span>)                  │ (<span style=\"color: #00d7ff; text-decoration-color: #00d7ff\">None</span>, <span style=\"color: #00af00; text-decoration-color: #00af00\">50</span>)                  │               <span style=\"color: #00af00; text-decoration-color: #00af00\">0</span> │\n",
       "├──────────────────────────────────────┼─────────────────────────────┼─────────────────┤\n",
       "│ dense_2 (<span style=\"color: #0087ff; text-decoration-color: #0087ff\">Dense</span>)                      │ (<span style=\"color: #00d7ff; text-decoration-color: #00d7ff\">None</span>, <span style=\"color: #00af00; text-decoration-color: #00af00\">3</span>)                   │             <span style=\"color: #00af00; text-decoration-color: #00af00\">153</span> │\n",
       "└──────────────────────────────────────┴─────────────────────────────┴─────────────────┘\n",
       "</pre>\n"
      ],
      "text/plain": [
       "┏━━━━━━━━━━━━━━━━━━━━━━━━━━━━━━━━━━━━━━┳━━━━━━━━━━━━━━━━━━━━━━━━━━━━━┳━━━━━━━━━━━━━━━━━┓\n",
       "┃\u001b[1m \u001b[0m\u001b[1mLayer (type)                        \u001b[0m\u001b[1m \u001b[0m┃\u001b[1m \u001b[0m\u001b[1mOutput Shape               \u001b[0m\u001b[1m \u001b[0m┃\u001b[1m \u001b[0m\u001b[1m        Param #\u001b[0m\u001b[1m \u001b[0m┃\n",
       "┡━━━━━━━━━━━━━━━━━━━━━━━━━━━━━━━━━━━━━━╇━━━━━━━━━━━━━━━━━━━━━━━━━━━━━╇━━━━━━━━━━━━━━━━━┩\n",
       "│ mobilenetv2_1.00_224 (\u001b[38;5;33mFunctional\u001b[0m)    │ (\u001b[38;5;45mNone\u001b[0m, \u001b[38;5;34m7\u001b[0m, \u001b[38;5;34m7\u001b[0m, \u001b[38;5;34m1280\u001b[0m)          │       \u001b[38;5;34m2,257,984\u001b[0m │\n",
       "├──────────────────────────────────────┼─────────────────────────────┼─────────────────┤\n",
       "│ average_pooling2d (\u001b[38;5;33mAveragePooling2D\u001b[0m) │ (\u001b[38;5;45mNone\u001b[0m, \u001b[38;5;34m3\u001b[0m, \u001b[38;5;34m3\u001b[0m, \u001b[38;5;34m1280\u001b[0m)          │               \u001b[38;5;34m0\u001b[0m │\n",
       "├──────────────────────────────────────┼─────────────────────────────┼─────────────────┤\n",
       "│ flatten (\u001b[38;5;33mFlatten\u001b[0m)                    │ (\u001b[38;5;45mNone\u001b[0m, \u001b[38;5;34m11520\u001b[0m)               │               \u001b[38;5;34m0\u001b[0m │\n",
       "├──────────────────────────────────────┼─────────────────────────────┼─────────────────┤\n",
       "│ dense (\u001b[38;5;33mDense\u001b[0m)                        │ (\u001b[38;5;45mNone\u001b[0m, \u001b[38;5;34m512\u001b[0m)                 │       \u001b[38;5;34m5,898,752\u001b[0m │\n",
       "├──────────────────────────────────────┼─────────────────────────────┼─────────────────┤\n",
       "│ dropout (\u001b[38;5;33mDropout\u001b[0m)                    │ (\u001b[38;5;45mNone\u001b[0m, \u001b[38;5;34m512\u001b[0m)                 │               \u001b[38;5;34m0\u001b[0m │\n",
       "├──────────────────────────────────────┼─────────────────────────────┼─────────────────┤\n",
       "│ dense_1 (\u001b[38;5;33mDense\u001b[0m)                      │ (\u001b[38;5;45mNone\u001b[0m, \u001b[38;5;34m50\u001b[0m)                  │          \u001b[38;5;34m25,650\u001b[0m │\n",
       "├──────────────────────────────────────┼─────────────────────────────┼─────────────────┤\n",
       "│ dropout_1 (\u001b[38;5;33mDropout\u001b[0m)                  │ (\u001b[38;5;45mNone\u001b[0m, \u001b[38;5;34m50\u001b[0m)                  │               \u001b[38;5;34m0\u001b[0m │\n",
       "├──────────────────────────────────────┼─────────────────────────────┼─────────────────┤\n",
       "│ dense_2 (\u001b[38;5;33mDense\u001b[0m)                      │ (\u001b[38;5;45mNone\u001b[0m, \u001b[38;5;34m3\u001b[0m)                   │             \u001b[38;5;34m153\u001b[0m │\n",
       "└──────────────────────────────────────┴─────────────────────────────┴─────────────────┘\n"
      ]
     },
     "metadata": {},
     "output_type": "display_data"
    },
    {
     "data": {
      "text/html": [
       "<pre style=\"white-space:pre;overflow-x:auto;line-height:normal;font-family:Menlo,'DejaVu Sans Mono',consolas,'Courier New',monospace\"><span style=\"font-weight: bold\"> Total params: </span><span style=\"color: #00af00; text-decoration-color: #00af00\">8,182,539</span> (31.21 MB)\n",
       "</pre>\n"
      ],
      "text/plain": [
       "\u001b[1m Total params: \u001b[0m\u001b[38;5;34m8,182,539\u001b[0m (31.21 MB)\n"
      ]
     },
     "metadata": {},
     "output_type": "display_data"
    },
    {
     "data": {
      "text/html": [
       "<pre style=\"white-space:pre;overflow-x:auto;line-height:normal;font-family:Menlo,'DejaVu Sans Mono',consolas,'Courier New',monospace\"><span style=\"font-weight: bold\"> Trainable params: </span><span style=\"color: #00af00; text-decoration-color: #00af00\">6,337,355</span> (24.18 MB)\n",
       "</pre>\n"
      ],
      "text/plain": [
       "\u001b[1m Trainable params: \u001b[0m\u001b[38;5;34m6,337,355\u001b[0m (24.18 MB)\n"
      ]
     },
     "metadata": {},
     "output_type": "display_data"
    },
    {
     "data": {
      "text/html": [
       "<pre style=\"white-space:pre;overflow-x:auto;line-height:normal;font-family:Menlo,'DejaVu Sans Mono',consolas,'Courier New',monospace\"><span style=\"font-weight: bold\"> Non-trainable params: </span><span style=\"color: #00af00; text-decoration-color: #00af00\">1,845,184</span> (7.04 MB)\n",
       "</pre>\n"
      ],
      "text/plain": [
       "\u001b[1m Non-trainable params: \u001b[0m\u001b[38;5;34m1,845,184\u001b[0m (7.04 MB)\n"
      ]
     },
     "metadata": {},
     "output_type": "display_data"
    }
   ],
   "source": [
    "from keras.applications import MobileNetV2\n",
    "from keras.layers import Conv2D, MaxPool2D, Dropout, Flatten, Dense, GlobalAveragePooling2D, AveragePooling2D, Input\n",
    "from keras.models import Sequential\n",
    "\n",
    "base_model = MobileNetV2(include_top=False, input_tensor=Input(shape=(IMAGE_SIZE, IMAGE_SIZE, 3)))\n",
    "\n",
    "for layer in base_model.layers[:-4]:\n",
    "  layer.trainable = False\n",
    "\n",
    "model = Sequential()\n",
    "model.add(base_model)\n",
    "model.add(AveragePooling2D(pool_size=(2, 2)))\n",
    "model.add(Flatten())\n",
    "model.add(Dense(512, activation=\"relu\"))\n",
    "model.add(Dropout(0.5))\n",
    "model.add(Dense(50, activation=\"relu\"))\n",
    "model.add(Dropout(0.5))\n",
    "model.add(Dense(3, activation='softmax'))\n",
    "model.summary()"
   ]
  },
  {
   "cell_type": "code",
   "execution_count": null,
   "metadata": {
    "colab": {
     "base_uri": "https://localhost:8080/"
    },
    "executionInfo": {
     "elapsed": 1096163,
     "status": "ok",
     "timestamp": 1737447029920,
     "user": {
      "displayName": "Mauliana",
      "userId": "04631804011909403256"
     },
     "user_tz": -420
    },
    "id": "bVXMLuKp2BTR",
    "outputId": "b30f584b-c99e-4815-f5c0-993de11e80fd"
   },
   "outputs": [
    {
     "name": "stdout",
     "output_type": "stream",
     "text": [
      "Epoch 1/100\n"
     ]
    },
    {
     "name": "stderr",
     "output_type": "stream",
     "text": [
      "/usr/local/lib/python3.11/dist-packages/keras/src/trainers/data_adapters/py_dataset_adapter.py:122: UserWarning: Your `PyDataset` class should call `super().__init__(**kwargs)` in its constructor. `**kwargs` can include `workers`, `use_multiprocessing`, `max_queue_size`. Do not pass these arguments to `fit()`, as they will be ignored.\n",
      "  self._warn_if_super_not_called()\n"
     ]
    },
    {
     "name": "stdout",
     "output_type": "stream",
     "text": [
      "\u001b[1m272/272\u001b[0m \u001b[32m━━━━━━━━━━━━━━━━━━━━\u001b[0m\u001b[37m\u001b[0m \u001b[1m0s\u001b[0m 240ms/step - accuracy: 0.8835 - loss: 0.7179\n",
      "Epoch 1: val_loss improved from inf to 0.02275, saving model to checkpoint-combined_model.keras\n",
      "\u001b[1m272/272\u001b[0m \u001b[32m━━━━━━━━━━━━━━━━━━━━\u001b[0m\u001b[37m\u001b[0m \u001b[1m111s\u001b[0m 349ms/step - accuracy: 0.8837 - loss: 0.7164 - val_accuracy: 0.9951 - val_loss: 0.0228 - learning_rate: 0.0010\n",
      "Epoch 2/100\n",
      "\u001b[1m271/272\u001b[0m \u001b[32m━━━━━━━━━━━━━━━━━━━\u001b[0m\u001b[37m━\u001b[0m \u001b[1m0s\u001b[0m 207ms/step - accuracy: 0.9880 - loss: 0.1096\n",
      "Epoch 2: val_loss did not improve from 0.02275\n",
      "\u001b[1m272/272\u001b[0m \u001b[32m━━━━━━━━━━━━━━━━━━━━\u001b[0m\u001b[37m\u001b[0m \u001b[1m77s\u001b[0m 280ms/step - accuracy: 0.9880 - loss: 0.1094 - val_accuracy: 0.9776 - val_loss: 0.2598 - learning_rate: 0.0010\n",
      "Epoch 3/100\n",
      "\u001b[1m271/272\u001b[0m \u001b[32m━━━━━━━━━━━━━━━━━━━\u001b[0m\u001b[37m━\u001b[0m \u001b[1m0s\u001b[0m 207ms/step - accuracy: 0.9905 - loss: 0.0446\n",
      "Epoch 3: val_loss did not improve from 0.02275\n",
      "\u001b[1m272/272\u001b[0m \u001b[32m━━━━━━━━━━━━━━━━━━━━\u001b[0m\u001b[37m\u001b[0m \u001b[1m82s\u001b[0m 280ms/step - accuracy: 0.9905 - loss: 0.0446 - val_accuracy: 0.9951 - val_loss: 0.0257 - learning_rate: 0.0010\n",
      "Epoch 4/100\n",
      "\u001b[1m272/272\u001b[0m \u001b[32m━━━━━━━━━━━━━━━━━━━━\u001b[0m\u001b[37m\u001b[0m \u001b[1m0s\u001b[0m 206ms/step - accuracy: 0.9922 - loss: 0.0373\n",
      "Epoch 4: val_loss did not improve from 0.02275\n",
      "\u001b[1m272/272\u001b[0m \u001b[32m━━━━━━━━━━━━━━━━━━━━\u001b[0m\u001b[37m\u001b[0m \u001b[1m78s\u001b[0m 281ms/step - accuracy: 0.9922 - loss: 0.0373 - val_accuracy: 0.9969 - val_loss: 0.0278 - learning_rate: 0.0010\n",
      "Epoch 5/100\n",
      "\u001b[1m271/272\u001b[0m \u001b[32m━━━━━━━━━━━━━━━━━━━\u001b[0m\u001b[37m━\u001b[0m \u001b[1m0s\u001b[0m 210ms/step - accuracy: 0.9983 - loss: 0.0079\n",
      "Epoch 5: val_loss improved from 0.02275 to 0.01378, saving model to checkpoint-combined_model.keras\n",
      "\u001b[1m272/272\u001b[0m \u001b[32m━━━━━━━━━━━━━━━━━━━━\u001b[0m\u001b[37m\u001b[0m \u001b[1m80s\u001b[0m 291ms/step - accuracy: 0.9983 - loss: 0.0079 - val_accuracy: 0.9988 - val_loss: 0.0138 - learning_rate: 0.0010\n",
      "Epoch 6/100\n",
      "\u001b[1m271/272\u001b[0m \u001b[32m━━━━━━━━━━━━━━━━━━━\u001b[0m\u001b[37m━\u001b[0m \u001b[1m0s\u001b[0m 208ms/step - accuracy: 0.9971 - loss: 0.0090\n",
      "Epoch 6: val_loss did not improve from 0.01378\n",
      "\u001b[1m272/272\u001b[0m \u001b[32m━━━━━━━━━━━━━━━━━━━━\u001b[0m\u001b[37m\u001b[0m \u001b[1m100s\u001b[0m 358ms/step - accuracy: 0.9971 - loss: 0.0090 - val_accuracy: 0.9969 - val_loss: 0.0170 - learning_rate: 0.0010\n",
      "Epoch 7/100\n",
      "\u001b[1m272/272\u001b[0m \u001b[32m━━━━━━━━━━━━━━━━━━━━\u001b[0m\u001b[37m\u001b[0m \u001b[1m0s\u001b[0m 215ms/step - accuracy: 0.9969 - loss: 0.0221\n",
      "Epoch 7: val_loss did not improve from 0.01378\n",
      "\u001b[1m272/272\u001b[0m \u001b[32m━━━━━━━━━━━━━━━━━━━━\u001b[0m\u001b[37m\u001b[0m \u001b[1m81s\u001b[0m 293ms/step - accuracy: 0.9969 - loss: 0.0221 - val_accuracy: 0.9963 - val_loss: 0.0550 - learning_rate: 0.0010\n",
      "Epoch 8/100\n",
      "\u001b[1m271/272\u001b[0m \u001b[32m━━━━━━━━━━━━━━━━━━━\u001b[0m\u001b[37m━\u001b[0m \u001b[1m0s\u001b[0m 210ms/step - accuracy: 0.9963 - loss: 0.0232\n",
      "Epoch 8: val_loss improved from 0.01378 to 0.00762, saving model to checkpoint-combined_model.keras\n",
      "\u001b[1m272/272\u001b[0m \u001b[32m━━━━━━━━━━━━━━━━━━━━\u001b[0m\u001b[37m\u001b[0m \u001b[1m80s\u001b[0m 291ms/step - accuracy: 0.9963 - loss: 0.0231 - val_accuracy: 0.9975 - val_loss: 0.0076 - learning_rate: 0.0010\n",
      "Epoch 9/100\n",
      "\u001b[1m271/272\u001b[0m \u001b[32m━━━━━━━━━━━━━━━━━━━\u001b[0m\u001b[37m━\u001b[0m \u001b[1m0s\u001b[0m 213ms/step - accuracy: 0.9979 - loss: 0.0069\n",
      "Epoch 9: val_loss did not improve from 0.00762\n",
      "\u001b[1m272/272\u001b[0m \u001b[32m━━━━━━━━━━━━━━━━━━━━\u001b[0m\u001b[37m\u001b[0m \u001b[1m82s\u001b[0m 292ms/step - accuracy: 0.9979 - loss: 0.0069 - val_accuracy: 0.9979 - val_loss: 0.0160 - learning_rate: 0.0010\n",
      "Epoch 10/100\n",
      "\u001b[1m271/272\u001b[0m \u001b[32m━━━━━━━━━━━━━━━━━━━\u001b[0m\u001b[37m━\u001b[0m \u001b[1m0s\u001b[0m 211ms/step - accuracy: 0.9980 - loss: 0.0056\n",
      "Epoch 10: val_loss did not improve from 0.00762\n",
      "\u001b[1m272/272\u001b[0m \u001b[32m━━━━━━━━━━━━━━━━━━━━\u001b[0m\u001b[37m\u001b[0m \u001b[1m80s\u001b[0m 285ms/step - accuracy: 0.9980 - loss: 0.0056 - val_accuracy: 0.9988 - val_loss: 0.0080 - learning_rate: 0.0010\n",
      "Epoch 11/100\n",
      "\u001b[1m271/272\u001b[0m \u001b[32m━━━━━━━━━━━━━━━━━━━\u001b[0m\u001b[37m━\u001b[0m \u001b[1m0s\u001b[0m 230ms/step - accuracy: 0.9961 - loss: 0.0503\n",
      "Epoch 11: val_loss did not improve from 0.00762\n",
      "\u001b[1m272/272\u001b[0m \u001b[32m━━━━━━━━━━━━━━━━━━━━\u001b[0m\u001b[37m\u001b[0m \u001b[1m85s\u001b[0m 305ms/step - accuracy: 0.9960 - loss: 0.0506 - val_accuracy: 0.9945 - val_loss: 0.0951 - learning_rate: 0.0010\n",
      "Epoch 12/100\n",
      "\u001b[1m272/272\u001b[0m \u001b[32m━━━━━━━━━━━━━━━━━━━━\u001b[0m\u001b[37m\u001b[0m \u001b[1m0s\u001b[0m 207ms/step - accuracy: 0.9917 - loss: 0.0546\n",
      "Epoch 12: val_loss did not improve from 0.00762\n",
      "\u001b[1m272/272\u001b[0m \u001b[32m━━━━━━━━━━━━━━━━━━━━\u001b[0m\u001b[37m\u001b[0m \u001b[1m79s\u001b[0m 282ms/step - accuracy: 0.9917 - loss: 0.0546 - val_accuracy: 0.9911 - val_loss: 0.0841 - learning_rate: 0.0010\n",
      "Epoch 13/100\n",
      "\u001b[1m271/272\u001b[0m \u001b[32m━━━━━━━━━━━━━━━━━━━\u001b[0m\u001b[37m━\u001b[0m \u001b[1m0s\u001b[0m 206ms/step - accuracy: 0.9957 - loss: 0.0571\n",
      "Epoch 13: val_loss did not improve from 0.00762\n",
      "\n",
      "Epoch 13: ReduceLROnPlateau reducing learning rate to 0.0005000000237487257.\n",
      "\u001b[1m272/272\u001b[0m \u001b[32m━━━━━━━━━━━━━━━━━━━━\u001b[0m\u001b[37m\u001b[0m \u001b[1m78s\u001b[0m 283ms/step - accuracy: 0.9956 - loss: 0.0571 - val_accuracy: 0.9988 - val_loss: 0.0123 - learning_rate: 0.0010\n"
     ]
    }
   ],
   "source": [
    "# Compile the model\n",
    "model.compile(optimizer='adam', loss='categorical_crossentropy', metrics=['accuracy'])\n",
    "\n",
    "# Train the model\n",
    "history = model.fit(\n",
    "    x=train,\n",
    "    epochs=100,\n",
    "    validation_data=val,\n",
    "    class_weight=class_weights_dict,\n",
    "    callbacks = callbacks\n",
    ")"
   ]
  },
  {
   "cell_type": "code",
   "execution_count": null,
   "metadata": {
    "colab": {
     "base_uri": "https://localhost:8080/",
     "height": 456
    },
    "executionInfo": {
     "elapsed": 836,
     "status": "ok",
     "timestamp": 1737447134095,
     "user": {
      "displayName": "Mauliana",
      "userId": "04631804011909403256"
     },
     "user_tz": -420
    },
    "id": "KBrqXDCh2QAN",
    "outputId": "7a7467d5-f2a0-4800-be71-f378ec2218c5"
   },
   "outputs": [
    {
     "data": {
      "image/png": "[encoded data removed]",
      "text/plain": [
       "<Figure size 1400x500 with 2 Axes>"
      ]
     },
     "metadata": {},
     "output_type": "display_data"
    }
   ],
   "source": [
    "# Plot the training history\n",
    "plot_training_history(history)"
   ]
  },
  {
   "cell_type": "code",
   "execution_count": null,
   "metadata": {
    "colab": {
     "base_uri": "https://localhost:8080/"
    },
    "executionInfo": {
     "elapsed": 21553,
     "status": "ok",
     "timestamp": 1737447162263,
     "user": {
      "displayName": "Mauliana",
      "userId": "04631804011909403256"
     },
     "user_tz": -420
    },
    "id": "TBGJlvOP6wwT",
    "outputId": "7fc0db3f-69ad-469b-f2f8-eb8b1cf0a689"
   },
   "outputs": [
    {
     "name": "stdout",
     "output_type": "stream",
     "text": [
      "\u001b[1m68/68\u001b[0m \u001b[32m━━━━━━━━━━━━━━━━━━━━\u001b[0m\u001b[37m\u001b[0m \u001b[1m16s\u001b[0m 235ms/step - accuracy: 0.9979 - loss: 0.0080\n"
     ]
    },
    {
     "data": {
      "text/plain": [
       "[0.009883403778076172, 0.996781587600708]"
      ]
     },
     "execution_count": 23,
     "metadata": {},
     "output_type": "execute_result"
    }
   ],
   "source": [
    "model.evaluate(test, verbose=1)"
   ]
  },
  {
   "cell_type": "code",
   "execution_count": null,
   "metadata": {
    "colab": {
     "base_uri": "https://localhost:8080/"
    },
    "executionInfo": {
     "elapsed": 1065,
     "status": "ok",
     "timestamp": 1737447163327,
     "user": {
      "displayName": "Mauliana",
      "userId": "04631804011909403256"
     },
     "user_tz": -420
    },
    "id": "Yys3ajGs62rX",
    "outputId": "da2e035a-925f-48c5-c22c-1149c4723102"
   },
   "outputs": [
    {
     "name": "stderr",
     "output_type": "stream",
     "text": [
      "WARNING:absl:You are saving your model as an HDF5 file via `model.save()` or `keras.saving.save_model(model)`. This file format is considered legacy. We recommend using instead the native Keras format, e.g. `model.save('my_model.keras')` or `keras.saving.save_model(model, 'my_model.keras')`. \n"
     ]
    }
   ],
   "source": [
    "model.save('x-ray_mobilnetv2_model-v2.h5')"
   ]
  },
  {
   "cell_type": "code",
   "execution_count": null,
   "metadata": {
    "colab": {
     "base_uri": "https://localhost:8080/"
    },
    "executionInfo": {
     "elapsed": 21662,
     "status": "ok",
     "timestamp": 1737447197108,
     "user": {
      "displayName": "Mauliana",
      "userId": "04631804011909403256"
     },
     "user_tz": -420
    },
    "id": "YmZygHBz67rK",
    "outputId": "e6e647d8-9677-493b-8cf5-1a5287ba22b7"
   },
   "outputs": [
    {
     "name": "stdout",
     "output_type": "stream",
     "text": [
      "\u001b[1m68/68\u001b[0m \u001b[32m━━━━━━━━━━━━━━━━━━━━\u001b[0m\u001b[37m\u001b[0m \u001b[1m20s\u001b[0m 244ms/step\n",
      "              precision    recall  f1-score   support\n",
      "\n",
      "      normal       1.00      0.99      1.00       695\n",
      "   pneumonia       0.99      1.00      1.00       776\n",
      "         tbc       1.00      1.00      1.00       704\n",
      "\n",
      "    accuracy                           1.00      2175\n",
      "   macro avg       1.00      1.00      1.00      2175\n",
      "weighted avg       1.00      1.00      1.00      2175\n",
      "\n",
      "Accuracy of the Model: 99.7%\n"
     ]
    }
   ],
   "source": [
    "import numpy as np\n",
    "from sklearn.metrics import confusion_matrix, accuracy_score\n",
    "from sklearn.metrics import classification_report\n",
    "\n",
    "pred = model.predict(test)\n",
    "pred = np.argmax(pred, axis=1) #pick class with highest  probability\n",
    "\n",
    "labels = (train.class_indices)\n",
    "labels = dict((v,k) for k,v in labels.items())\n",
    "pred2 = [labels[k] for k in pred]\n",
    "\n",
    "y_test = test_set.label # set y_test to the expected output\n",
    "print(classification_report(y_test, pred2))\n",
    "print(\"Accuracy of the Model:\",\"{:.1f}%\".format(accuracy_score(y_test, pred2)*100))\n"
   ]
  },
  {
   "cell_type": "code",
   "execution_count": null,
   "metadata": {
    "colab": {
     "base_uri": "https://localhost:8080/"
    },
    "executionInfo": {
     "elapsed": 3596,
     "status": "ok",
     "timestamp": 1737447546764,
     "user": {
      "displayName": "Mauliana",
      "userId": "04631804011909403256"
     },
     "user_tz": -420
    },
    "id": "5lA-jzzZ6_IC",
    "outputId": "f85b08c9-3f0c-4940-8dca-33271ecf57e3"
   },
   "outputs": [
    {
     "name": "stderr",
     "output_type": "stream",
     "text": [
      "WARNING:absl:Compiled the loaded model, but the compiled metrics have yet to be built. `model.compile_metrics` will be empty until you train or evaluate the model.\n",
      "WARNING:tensorflow:5 out of the last 71 calls to <function TensorFlowTrainer.make_predict_function.<locals>.one_step_on_data_distributed at 0x7f061414fa60> triggered tf.function retracing. Tracing is expensive and the excessive number of tracings could be due to (1) creating @tf.function repeatedly in a loop, (2) passing tensors with different shapes, (3) passing Python objects instead of tensors. For (1), please define your @tf.function outside of the loop. For (2), @tf.function has reduce_retracing=True option that can avoid unnecessary retracing. For (3), please refer to https://www.tensorflow.org/guide/function#controlling_retracing and https://www.tensorflow.org/api_docs/python/tf/function for  more details.\n"
     ]
    },
    {
     "name": "stdout",
     "output_type": "stream",
     "text": [
      "\u001b[1m1/1\u001b[0m \u001b[32m━━━━━━━━━━━━━━━━━━━━\u001b[0m\u001b[37m\u001b[0m \u001b[1m2s\u001b[0m 2s/step\n",
      "Predicted label: tbc\n",
      "Confidence scores for all classes:\n",
      "normal: 0.0010\n",
      "pneumonia: 0.0615\n",
      "tbc: 0.9374\n"
     ]
    }
   ],
   "source": [
    "import numpy as np\n",
    "from tensorflow.keras.preprocessing.image import load_img, img_to_array\n",
    "from tensorflow.keras.models import load_model\n",
    "\n",
    "# Constants\n",
    "IMAGE_SIZE = 224  # Same as used during training\n",
    "MODEL_PATH = '/content/x-ray_mobilnetv2_model-v2.h5'  # Replace with the actual path to the trained model\n",
    "CLASS_NAMES = ['normal', 'pneumonia', 'tbc']  # Class labels in the same order as the model was trained\n",
    "\n",
    "# Load the trained model\n",
    "model = load_model(MODEL_PATH)\n",
    "\n",
    "# Preprocessing function for inference\n",
    "def preprocess_image(image_path):\n",
    "    \"\"\"\n",
    "    Preprocess a single image for prediction.\n",
    "    Args:\n",
    "        image_path (str): Path to the image file.\n",
    "    Returns:\n",
    "        numpy.ndarray: Preprocessed image ready for prediction.\n",
    "    \"\"\"\n",
    "    # Load and resize the image\n",
    "    img = load_img(image_path, target_size=(IMAGE_SIZE, IMAGE_SIZE))\n",
    "    img_array = img_to_array(img)  # Convert image to array\n",
    "    img_array = tf.keras.applications.mobilenet_v2.preprocess_input(img_array)  # Use the same preprocessing function\n",
    "    img_array = np.expand_dims(img_array, axis=0)  # Add batch dimension\n",
    "    return img_array\n",
    "\n",
    "# Prediction function\n",
    "def predict_image(image_path):\n",
    "    \"\"\"\n",
    "    Predict the class of an image and provide confidence scores for all classes.\n",
    "    Args:\n",
    "        image_path (str): Path to the image file.\n",
    "    Returns:\n",
    "        tuple: Predicted class label and a dictionary of confidence scores for all classes.\n",
    "    \"\"\"\n",
    "    # Preprocess the image\n",
    "    preprocessed_image = preprocess_image(image_path)\n",
    "\n",
    "    # Perform prediction\n",
    "    predictions = model.predict(preprocessed_image)[0]  # Extract the single prediction from the batch\n",
    "\n",
    "    # Get the predicted class index and label\n",
    "    predicted_class_idx = np.argmax(predictions)\n",
    "    predicted_class_label = CLASS_NAMES[predicted_class_idx]\n",
    "\n",
    "    # Create a dictionary of class labels and their confidence scores\n",
    "    confidence_scores = {CLASS_NAMES[i]: predictions[i] for i in range(len(CLASS_NAMES))}\n",
    "\n",
    "    return predicted_class_label, confidence_scores\n",
    "\n",
    "# Example usage\n",
    "image_path = '/content/pneumonia+efusi-pleura.jpg'  # Replace with the actual path to an image\n",
    "predicted_label, confidence_scores = predict_image(image_path)\n",
    "\n",
    "# Display results\n",
    "print(f\"Predicted label: {predicted_label}\")\n",
    "print(\"Confidence scores for all classes:\")\n",
    "for class_name, score in confidence_scores.items():\n",
    "    print(f\"{class_name}: {score:.4f}\")\n"
   ]
  },
  {
   "cell_type": "code",
   "execution_count": null,
   "metadata": {
    "id": "rEy5BVw37K3J"
   },
   "outputs": [],
   "source": []
  },
  {
   "cell_type": "code",
   "execution_count": null,
   "metadata": {
    "id": "e_0JdgkM9Z-Z"
   },
   "outputs": [],
   "source": []
  }
 ],
 "metadata": {
  "accelerator": "GPU",
  "colab": {
   "authorship_tag": "ABX9TyNZ+8WOw7cnu5eDJNIs+67b",
   "gpuType": "T4",
   "provenance": [],
   "toc_visible": true
  },
  "kernelspec": {
   "display_name": "Python 3",
   "name": "python3"
  },
  "language_info": {
   "name": "python"
  }
 },
 "nbformat": 4,
 "nbformat_minor": 0
}
