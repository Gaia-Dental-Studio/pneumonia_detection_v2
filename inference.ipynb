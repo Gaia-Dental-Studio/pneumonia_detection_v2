{
 "cells": [
  {
   "cell_type": "code",
   "execution_count": 4,
   "metadata": {},
   "outputs": [
    {
     "name": "stderr",
     "output_type": "stream",
     "text": [
      "WARNING:absl:Compiled the loaded model, but the compiled metrics have yet to be built. `model.compile_metrics` will be empty until you train or evaluate the model.\n"
     ]
    },
    {
     "name": "stdout",
     "output_type": "stream",
     "text": [
      "\u001b[1m1/1\u001b[0m \u001b[32m━━━━━━━━━━━━━━━━━━━━\u001b[0m\u001b[37m\u001b[0m \u001b[1m0s\u001b[0m 140ms/step\n",
      "Predicted Class: PNEUMONIA\n",
      "Probability Scores: {'NORMAL': 0.053658585995435715, 'PNEUMONIA': 0.9463414549827576}\n"
     ]
    }
   ],
   "source": [
    "import numpy as np\n",
    "import tensorflow as tf\n",
    "from tensorflow.keras.preprocessing import image\n",
    "\n",
    "# Load the trained model\n",
    "model = tf.keras.models.load_model('./model/CNN_model-v2.h5')\n",
    "model.compile(\n",
    "    loss='categorical_crossentropy',\n",
    "    optimizer=tf.optimizers.SGD(learning_rate=0.001),\n",
    "    metrics=['accuracy']\n",
    ")\n",
    "\n",
    "# Define class labels\n",
    "class_labels = ['NORMAL', 'PNEUMONIA']\n",
    "\n",
    "def predict_image(img_path):\n",
    "    \"\"\"\n",
    "    Predict the class of an input image using the trained model.\n",
    "\n",
    "    Args:\n",
    "        img_path (str): Path to the input image.\n",
    "\n",
    "    Returns:\n",
    "        dict: Predicted class with probability scores for each class.\n",
    "    \"\"\"\n",
    "    # Load and preprocess the image\n",
    "    img = image.load_img(img_path, target_size=(224, 224))  # Resize image to model's input size\n",
    "    img_array = image.img_to_array(img)  # Convert to array\n",
    "    img_array = np.expand_dims(img_array, axis=0)  # Add batch dimension\n",
    "    img_array = tf.keras.applications.mobilenet_v2.preprocess_input(img_array)  # Preprocess as in training\n",
    "\n",
    "    # Perform prediction\n",
    "    predictions = model.predict(img_array)\n",
    "    predicted_class = class_labels[np.argmax(predictions)]  # Get class with highest probability\n",
    "    predicted_probs = {class_labels[i]: float(predictions[0][i]) for i in range(len(class_labels))}\n",
    "\n",
    "    return {\n",
    "        \"Predicted Class\": predicted_class,\n",
    "        \"Probability Scores\": predicted_probs\n",
    "    }\n",
    "\n",
    "# Test the function\n",
    "img_path = '/Users/mauliana/Downloads/normal_1.jpeg'\n",
    "result = predict_image(img_path)\n",
    "\n",
    "print(\"Predicted Class:\", result[\"Predicted Class\"])\n",
    "print(\"Probability Scores:\", result[\"Probability Scores\"])\n"
   ]
  },
  {
   "cell_type": "code",
   "execution_count": null,
   "metadata": {},
   "outputs": [],
   "source": []
  }
 ],
 "metadata": {
  "kernelspec": {
   "display_name": "env_py",
   "language": "python",
   "name": "python3"
  },
  "language_info": {
   "codemirror_mode": {
    "name": "ipython",
    "version": 3
   },
   "file_extension": ".py",
   "mimetype": "text/x-python",
   "name": "python",
   "nbconvert_exporter": "python",
   "pygments_lexer": "ipython3",
   "version": "3.12.7"
  }
 },
 "nbformat": 4,
 "nbformat_minor": 2
}
